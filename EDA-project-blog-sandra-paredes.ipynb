{
 "cells": [
  {
   "cell_type": "markdown",
   "id": "dd5e2bd7",
   "metadata": {},
   "source": [
    "# COVID Testing and Health Equity \n",
    "\n",
    "by Sandra Paredes"
   ]
  },
  {
   "cell_type": "markdown",
   "id": "73caa920",
   "metadata": {},
   "source": [
    "#### **Abstract**\n",
    "\n",
    "Goal \n",
    "Methods\n",
    "Results\n",
    "Conclusion\n",
    "\n",
    "#### **Design**\n",
    "In the first year of the COVID pandemic, Queens had a high burden of disease and deaths. Essential works were especially vulnerable because of shift work and unpaid sick leave. \n",
    "\n",
    "Research Question: Could the New York health department address health equity by deploying mobile COVID testing units to subway stations during late nights hours to reach people  who cannot access COVID services during regular hours? \n",
    "\n",
    "* How might we address COVID testing and vaccine health equity for people who commute after 7 pm and before 7 am, by sending mobile testing and vaccine units near subway stations in zip codes most affected by COVID?<br/>\n",
    "* Providing COVID monitoring and prevention services during off-hours would impact New Yorkers during their commute, despite irregular work hours. Furthermore, it would impact New York City's response to COVID surges by providing services to people who they may otherwise not easily reach.<br/> \n",
    "\n",
    "* Client: [New York City Department of Health and Mental Hygience](https://www1.nyc.gov/site/doh/about/about-doh.page)<br/>\n",
    "* The NYC Department of Health would benefit by knowing where to allocate COVID testing and vaccine mobile units during late-night and early-morning hours. Serving people in NY who cannot access COVID services during normal business hours helps mitigate surges of COVID. Serving this population would also address health equity issues for shift workers who are often also low-wage workers and have limited access to healthcare.<br/>  \n",
    "\n",
    "How many people entered the subway late at night? Could assigning a mobile COVID testing unit at subway entrances with high burden of COVID and high pedestrian traffic help address a gap in services for essential workers? \n",
    "\n",
    "The New York borough of Queens experience [very high cases](https://www1.nyc.gov/site/doh/covid/covid-19-data-neighborhoods.page) of COVID-19 early in the pandemic. Particularly in zip codes where residents are mostly [low-income](https://censusreporter.org/profiles/86000US11368-11368/). This analysis uses income as a proxy for essential workers during the coronavirus pandemic.<br/>\n",
    "\n",
    "The New York City Department of Health and Mental Hygiene (NYCDOH) has [mobile testing units](https://www1.nyc.gov/site/coronavirus/get-tested/covid-19-testing.page) which often set up near subway stations. However, the testing units operate during peak hours (8 AM - 8 PM), and off-peak commuters cannot access these services. The results of this analysis could provide NYCDOH with evidence to deploy units during off-peak hours to stations in zip codes with high numbers of essential workers. \n",
    "\n",
    "\n",
    "#### **Data**\n",
    "The dataset in this analysis is from the [MTA Turnstile dataset](http://web.mta.info/developers/turnstile.html).  Data was selected to explore subway entries from April to June of 2019, during off-peak travel travel times. The analysis first explores late night data for all stations. Then follows a closer look at the 7 train stations through Queens. And finally examines traffic at Flushing-Main Street, a 7 train terminus.    \n",
    "\n",
    "MTA turnstile data for 2020 and 2021 is irregular because the MTA suspended 24-hour subway service from [May 2020](https://www.nytimes.com/2020/05/06/nyregion/nyc-subway-close-coronavirus.html) until [May 2021](https://www.nytimes.com/2021/05/17/nyregion/nyc-subway-full-service-24-hours.html). Therefore, the best approximation for late night travel was the 2019 data used here. \n",
    "\n",
    "* [NYC Coronovirus Data by Zip Code](https://github.com/nychealth/coronavirus-data/blob/master/totals/data-by-modzcta.csv)<br/>\n",
    "* [NYT Coronavirus by Zip Code](https://www.nytimes.com/interactive/2020/nyregion/new-york-city-coronavirus-cases.html)<br/>\n",
    "* [HealthNY Test Site Finder](https://coronavirus.health.ny.gov/find-test-site-near-you)<br/>\n",
    "* [NYC Demographic Statistics By Zip CodeCity](https://data.cityofnewyork.us/City-Government/Demographic-Statistics-By-Zip-Code/kku6-nxdu)<br/>\n",
    "* [NYC Disparity Report Update 2021](https://www1.nyc.gov/assets/cidi/downloads/pdfs/2021-disparity-report-update.pdf)<br/>\n",
    "* [Mapping poverty in the US](https://www.nytimes.com/newsgraphics/2014/01/05/poverty-map/index.html)<br/>\n",
    "\n",
    "#### **Tools**\n",
    "* Matplotlib\n",
    "* Seaborn\n",
    "\n",
    "#### **Communication**\n",
    "Slides and code are available on https://github.com/slp22/eda-project."
   ]
  },
  {
   "cell_type": "code",
   "execution_count": null,
   "id": "3510aa2a",
   "metadata": {},
   "outputs": [],
   "source": []
  }
 ],
 "metadata": {
  "kernelspec": {
   "display_name": "Python 3 (ipykernel)",
   "language": "python",
   "name": "python3"
  },
  "language_info": {
   "codemirror_mode": {
    "name": "ipython",
    "version": 3
   },
   "file_extension": ".py",
   "mimetype": "text/x-python",
   "name": "python",
   "nbconvert_exporter": "python",
   "pygments_lexer": "ipython3",
   "version": "3.8.12"
  }
 },
 "nbformat": 4,
 "nbformat_minor": 5
}
