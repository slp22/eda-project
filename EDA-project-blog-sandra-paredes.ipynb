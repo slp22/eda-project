{
 "cells": [
  {
   "cell_type": "markdown",
   "id": "dd5e2bd7",
   "metadata": {},
   "source": [
    "# COVID Testing and Health Equity \n",
    "\n",
    "by Sandra Paredes"
   ]
  },
  {
   "cell_type": "markdown",
   "id": "73caa920",
   "metadata": {},
   "source": [
    "# Abstract\n",
    "\n",
    "Goal \n",
    "Methods\n",
    "Results\n",
    "Conclusion\n",
    "\n",
    "#### **Analysis Goal**\n",
    "The bourough of Queens in New York had zip codes [very high cases](https://www1.nyc.gov/site/doh/covid/covid-19-data-neighborhoods.page) of COVID-19. Particularly, in zip codes where its residents are mostly [low-income](https://censusreporter.org/profiles/86000US11368-11368/). This analysis uses income as a proxy for essential workers during the coronavirus pandemic.<br/>\n",
    "\n",
    "The New York City Department of Health and Mental Hygiene (NYCDOH) has [mobile testing units](https://www1.nyc.gov/site/coronavirus/get-tested/covid-19-testing.page) which often set up near subway stations. However, the testing units operate during peak hours (8 AM - 8 PM), and off-peak commuters cannot access these services. The results of this analysis could provide NYCDOH with evidence to deploy units during off-peak hours to stations in zip codes with high numbers of essential workers. \n",
    "\n",
    "#### **Process**\n",
    "This analysis explores April 20219, off-peak travel on the 7 train (12 AM - 4 AM) from the 103rd Street-Corona station, in the Corona neighborhood in Queens. MTA turnstile data for 2020 and 2021 is irregular because the MTA suspended 24-hour subway service from [May 2020](https://www.nytimes.com/2020/05/06/nyregion/nyc-subway-close-coronavirus.html) until [May 2021](https://www.nytimes.com/2021/05/17/nyregion/nyc-subway-full-service-24-hours.html). Therefore, the best approximation for off-hour travel was the 2019 data used here. \n",
    "\n",
    "#### **Preliminary visualization**\n",
    "The two barplots show how many people entered the Corona station each day in April during the midnight and 4 AM turnstile report.   \n",
    "\n",
    "#### **Preliminary conclusions**\n",
    "The barplots show regular off-peak travel and suggest some days of the week may be the best option for stationing mobile testing units late at night. \n"
   ]
  },
  {
   "cell_type": "markdown",
   "id": "142212fd",
   "metadata": {},
   "source": [
    "# Design"
   ]
  },
  {
   "cell_type": "markdown",
   "id": "1eb55559",
   "metadata": {},
   "source": [
    "\n",
    "* How might we address COVID testing and vaccine health equity for people who commute after 7 pm and before 7 am, by sending mobile testing and vaccine units near subway stations in zip codes most affected by COVID?<br/>\n",
    "* Providing COVID monitoring and prevention services during off-hours would impact New Yorkers during their commute, despite irregular work hours. Furthermore, it would impact New York City's response to COVID surges by providing services to people who they may otherwise not easily reach.<br/> \n",
    "\n",
    "* Client: [New York City Department of Health and Mental Hygience](https://www1.nyc.gov/site/doh/about/about-doh.page)<br/>\n",
    "* The NYC Department of Health would benefit by knowing where to allocate COVID testing and vaccine mobile units during late-night and early-morning hours. Serving people in NY who cannot access COVID services during normal business hours helps mitigate surges of COVID. Serving this population would also address health equity issues for shift workers who are often also low-wage workers and have limited access to healthcare.<br/>  "
   ]
  },
  {
   "cell_type": "markdown",
   "id": "65ee7133",
   "metadata": {},
   "source": [
    "# Data"
   ]
  },
  {
   "cell_type": "markdown",
   "id": "6ccba94c",
   "metadata": {},
   "source": [
    "* [NYC Coronovirus Data by Zip Code](https://github.com/nychealth/coronavirus-data/blob/master/totals/data-by-modzcta.csv)<br/>\n",
    "* [NYT Coronavirus by Zip Code](https://www.nytimes.com/interactive/2020/nyregion/new-york-city-coronavirus-cases.html)<br/>\n",
    "* [HealthNY Test Site Finder](https://coronavirus.health.ny.gov/find-test-site-near-you)<br/>\n",
    "* [NYC Demographic Statistics By Zip CodeCity](https://data.cityofnewyork.us/City-Government/Demographic-Statistics-By-Zip-Code/kku6-nxdu)<br/>\n",
    "* [NYC Disparity Report Update 2021](https://www1.nyc.gov/assets/cidi/downloads/pdfs/2021-disparity-report-update.pdf)<br/>\n",
    "* [Mapping poverty in the US](https://www.nytimes.com/newsgraphics/2014/01/05/poverty-map/index.html)<br/>"
   ]
  },
  {
   "cell_type": "markdown",
   "id": "3b7c8328",
   "metadata": {},
   "source": [
    "# Tools"
   ]
  },
  {
   "cell_type": "markdown",
   "id": "7bfe50a3",
   "metadata": {},
   "source": [
    "* SQL, Matplotlib, Seaborn\n"
   ]
  },
  {
   "cell_type": "markdown",
   "id": "05d1ce56",
   "metadata": {},
   "source": [
    "https://map.mta.info/#7@40.7522132,-73.9181072,13z\n",
    "https://en.wikipedia.org/wiki/7_(New_York_City_Subway_service)#/media/File:Boarding_the_New_York_City_MTA_7_subway.png"
   ]
  },
  {
   "cell_type": "markdown",
   "id": "cb2a55a2",
   "metadata": {},
   "source": [
    "# Communication?"
   ]
  },
  {
   "cell_type": "code",
   "execution_count": null,
   "id": "3273a641",
   "metadata": {},
   "outputs": [],
   "source": []
  },
  {
   "cell_type": "markdown",
   "id": "24a5fd05",
   "metadata": {},
   "source": [
    "* What would a [minimum viable product (MVP)](https://app.thisismetis.com/courses/135/pages/minimum-viable-product-mvp-template) look like for this project?<br/>\n",
    "    * Data comparisons between April and June of 2020 and 2021<br/> \n",
    "    * Five stations within the zipcodes with highest COVID cases<br/>\n",
    "    * Bar graphs of transit traffic in three stations on one subway line, between 7 pm and 7 am on weekdays, within the zip codes with the highest burden of COVID<br/>\n",
    " "
   ]
  },
  {
   "cell_type": "markdown",
   "id": "47d2a957",
   "metadata": {},
   "source": []
  },
  {
   "cell_type": "code",
   "execution_count": null,
   "id": "e9e11933",
   "metadata": {},
   "outputs": [],
   "source": []
  },
  {
   "cell_type": "markdown",
   "id": "1847e191",
   "metadata": {},
   "source": []
  },
  {
   "cell_type": "code",
   "execution_count": null,
   "id": "b2f5c1e4",
   "metadata": {},
   "outputs": [],
   "source": []
  }
 ],
 "metadata": {
  "kernelspec": {
   "display_name": "Python 3 (ipykernel)",
   "language": "python",
   "name": "python3"
  },
  "language_info": {
   "codemirror_mode": {
    "name": "ipython",
    "version": 3
   },
   "file_extension": ".py",
   "mimetype": "text/x-python",
   "name": "python",
   "nbconvert_exporter": "python",
   "pygments_lexer": "ipython3",
   "version": "3.8.12"
  }
 },
 "nbformat": 4,
 "nbformat_minor": 5
}
