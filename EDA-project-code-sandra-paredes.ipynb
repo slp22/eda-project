{
 "cells": [
  {
   "cell_type": "markdown",
   "metadata": {},
   "source": [
    "# COVID Testing and Vaccines and Health Equity \n"
   ]
  },
  {
   "cell_type": "code",
   "execution_count": 1,
   "metadata": {},
   "outputs": [],
   "source": [
    "import pandas as pd\n",
    "import numpy as np\n",
    "%matplotlib inline\n",
    "import matplotlib.pyplot as plt\n",
    "import seaborn as sns\n"
   ]
  },
  {
   "cell_type": "markdown",
   "metadata": {},
   "source": [
    "## 1. Import and clean MTA turnstile data\n",
    "Source: http://web.mta.info/developers/turnstile.html"
   ]
  },
  {
   "cell_type": "code",
   "execution_count": 2,
   "metadata": {},
   "outputs": [
    {
     "data": {
      "text/html": [
       "<div>\n",
       "<style scoped>\n",
       "    .dataframe tbody tr th:only-of-type {\n",
       "        vertical-align: middle;\n",
       "    }\n",
       "\n",
       "    .dataframe tbody tr th {\n",
       "        vertical-align: top;\n",
       "    }\n",
       "\n",
       "    .dataframe thead th {\n",
       "        text-align: right;\n",
       "    }\n",
       "</style>\n",
       "<table border=\"1\" class=\"dataframe\">\n",
       "  <thead>\n",
       "    <tr style=\"text-align: right;\">\n",
       "      <th></th>\n",
       "      <th>DATE_TIME</th>\n",
       "      <th>C/A</th>\n",
       "      <th>UNIT</th>\n",
       "      <th>SCP</th>\n",
       "      <th>STATION</th>\n",
       "      <th>LINENAME</th>\n",
       "      <th>DATE</th>\n",
       "      <th>TIME</th>\n",
       "      <th>DESC</th>\n",
       "      <th>ENTRIES</th>\n",
       "    </tr>\n",
       "  </thead>\n",
       "  <tbody>\n",
       "    <tr>\n",
       "      <th>202542</th>\n",
       "      <td>2019-04-19 05:00:00</td>\n",
       "      <td>TRAM2</td>\n",
       "      <td>R469</td>\n",
       "      <td>00-05-01</td>\n",
       "      <td>RIT-ROOSEVELT</td>\n",
       "      <td>R</td>\n",
       "      <td>04/19/2019</td>\n",
       "      <td>05:00:00</td>\n",
       "      <td>REGULAR</td>\n",
       "      <td>5554</td>\n",
       "    </tr>\n",
       "    <tr>\n",
       "      <th>202543</th>\n",
       "      <td>2019-04-19 09:00:00</td>\n",
       "      <td>TRAM2</td>\n",
       "      <td>R469</td>\n",
       "      <td>00-05-01</td>\n",
       "      <td>RIT-ROOSEVELT</td>\n",
       "      <td>R</td>\n",
       "      <td>04/19/2019</td>\n",
       "      <td>09:00:00</td>\n",
       "      <td>REGULAR</td>\n",
       "      <td>5554</td>\n",
       "    </tr>\n",
       "    <tr>\n",
       "      <th>202544</th>\n",
       "      <td>2019-04-19 13:00:00</td>\n",
       "      <td>TRAM2</td>\n",
       "      <td>R469</td>\n",
       "      <td>00-05-01</td>\n",
       "      <td>RIT-ROOSEVELT</td>\n",
       "      <td>R</td>\n",
       "      <td>04/19/2019</td>\n",
       "      <td>13:00:00</td>\n",
       "      <td>REGULAR</td>\n",
       "      <td>5554</td>\n",
       "    </tr>\n",
       "    <tr>\n",
       "      <th>202545</th>\n",
       "      <td>2019-04-19 17:00:00</td>\n",
       "      <td>TRAM2</td>\n",
       "      <td>R469</td>\n",
       "      <td>00-05-01</td>\n",
       "      <td>RIT-ROOSEVELT</td>\n",
       "      <td>R</td>\n",
       "      <td>04/19/2019</td>\n",
       "      <td>17:00:00</td>\n",
       "      <td>REGULAR</td>\n",
       "      <td>5554</td>\n",
       "    </tr>\n",
       "    <tr>\n",
       "      <th>202546</th>\n",
       "      <td>2019-04-19 21:00:00</td>\n",
       "      <td>TRAM2</td>\n",
       "      <td>R469</td>\n",
       "      <td>00-05-01</td>\n",
       "      <td>RIT-ROOSEVELT</td>\n",
       "      <td>R</td>\n",
       "      <td>04/19/2019</td>\n",
       "      <td>21:00:00</td>\n",
       "      <td>REGULAR</td>\n",
       "      <td>5554</td>\n",
       "    </tr>\n",
       "  </tbody>\n",
       "</table>\n",
       "</div>"
      ],
      "text/plain": [
       "                 DATE_TIME    C/A  UNIT       SCP        STATION LINENAME  \\\n",
       "202542 2019-04-19 05:00:00  TRAM2  R469  00-05-01  RIT-ROOSEVELT        R   \n",
       "202543 2019-04-19 09:00:00  TRAM2  R469  00-05-01  RIT-ROOSEVELT        R   \n",
       "202544 2019-04-19 13:00:00  TRAM2  R469  00-05-01  RIT-ROOSEVELT        R   \n",
       "202545 2019-04-19 17:00:00  TRAM2  R469  00-05-01  RIT-ROOSEVELT        R   \n",
       "202546 2019-04-19 21:00:00  TRAM2  R469  00-05-01  RIT-ROOSEVELT        R   \n",
       "\n",
       "              DATE      TIME     DESC  ENTRIES  \n",
       "202542  04/19/2019  05:00:00  REGULAR     5554  \n",
       "202543  04/19/2019  09:00:00  REGULAR     5554  \n",
       "202544  04/19/2019  13:00:00  REGULAR     5554  \n",
       "202545  04/19/2019  17:00:00  REGULAR     5554  \n",
       "202546  04/19/2019  21:00:00  REGULAR     5554  "
      ]
     },
     "execution_count": 2,
     "metadata": {},
     "output_type": "execute_result"
    }
   ],
   "source": [
    "# Load data from April, May, and June 2019, data is loaded on Saturdays.\n",
    "\n",
    "def get_data_parse_dt(week_nums):\n",
    "    url = \"http://web.mta.info/developers/data/nyct/turnstile/turnstile_{}.txt\"\n",
    "    dfs = []\n",
    "    for week_num in week_nums:\n",
    "        file_url = url.format(week_num)\n",
    "        dfs.append(pd.read_csv(file_url, parse_dates=[['DATE','TIME']], usecols = [0,1,2,3,4,6,7,8,9], keep_date_col=True))\n",
    "    return pd.concat(dfs)\n",
    "\n",
    "# Create a datetime column using data from columns DATE and TIME during import\n",
    "week_nums = [190406, 190413, 190420]\n",
    "df = get_data_parse_dt(week_nums)\n",
    "df.tail()\n",
    "# , 190427, 190504, 190511, 190518, 190525, 190601, 190608, 190615, 190622, 190629"
   ]
  },
  {
   "cell_type": "code",
   "execution_count": 3,
   "metadata": {
    "scrolled": true
   },
   "outputs": [
    {
     "data": {
      "text/plain": [
       "Index(['DATE_TIME', 'C/A', 'UNIT', 'SCP', 'STATION', 'LINENAME', 'DATE',\n",
       "       'TIME', 'DESC', 'ENTRIES'],\n",
       "      dtype='object')"
      ]
     },
     "execution_count": 3,
     "metadata": {},
     "output_type": "execute_result"
    }
   ],
   "source": [
    "df.columns"
   ]
  },
  {
   "cell_type": "code",
   "execution_count": 4,
   "metadata": {},
   "outputs": [
    {
     "data": {
      "text/plain": [
       "Index(['DATE_TIME', 'C/A', 'UNIT', 'SCP', 'STATION', 'LINENAME', 'DATE',\n",
       "       'TIME', 'DESC', 'ENTRIES'],\n",
       "      dtype='object')"
      ]
     },
     "execution_count": 4,
     "metadata": {},
     "output_type": "execute_result"
    }
   ],
   "source": [
    "# Strip whitespace from column names\n",
    "df.columns = [column.strip() for column in df.columns]\n",
    "df.columns"
   ]
  },
  {
   "cell_type": "markdown",
   "metadata": {},
   "source": [
    "## 2. Select late night entry data"
   ]
  },
  {
   "cell_type": "code",
   "execution_count": 5,
   "metadata": {},
   "outputs": [],
   "source": [
    "late_night_mask = df.copy()"
   ]
  },
  {
   "cell_type": "code",
   "execution_count": 6,
   "metadata": {
    "scrolled": true
   },
   "outputs": [
    {
     "data": {
      "text/html": [
       "<div>\n",
       "<style scoped>\n",
       "    .dataframe tbody tr th:only-of-type {\n",
       "        vertical-align: middle;\n",
       "    }\n",
       "\n",
       "    .dataframe tbody tr th {\n",
       "        vertical-align: top;\n",
       "    }\n",
       "\n",
       "    .dataframe thead th {\n",
       "        text-align: right;\n",
       "    }\n",
       "</style>\n",
       "<table border=\"1\" class=\"dataframe\">\n",
       "  <thead>\n",
       "    <tr style=\"text-align: right;\">\n",
       "      <th></th>\n",
       "      <th>DATE_TIME</th>\n",
       "      <th>C/A</th>\n",
       "      <th>UNIT</th>\n",
       "      <th>SCP</th>\n",
       "      <th>STATION</th>\n",
       "      <th>LINENAME</th>\n",
       "      <th>DATE</th>\n",
       "      <th>TIME</th>\n",
       "      <th>DESC</th>\n",
       "      <th>ENTRIES</th>\n",
       "    </tr>\n",
       "  </thead>\n",
       "  <tbody>\n",
       "    <tr>\n",
       "      <th>1</th>\n",
       "      <td>2019-03-30 04:00:00</td>\n",
       "      <td>A002</td>\n",
       "      <td>R051</td>\n",
       "      <td>02-00-00</td>\n",
       "      <td>59 ST</td>\n",
       "      <td>NQR456W</td>\n",
       "      <td>03/30/2019</td>\n",
       "      <td>04:00:00</td>\n",
       "      <td>REGULAR</td>\n",
       "      <td>6999084</td>\n",
       "    </tr>\n",
       "    <tr>\n",
       "      <th>7</th>\n",
       "      <td>2019-03-31 04:00:00</td>\n",
       "      <td>A002</td>\n",
       "      <td>R051</td>\n",
       "      <td>02-00-00</td>\n",
       "      <td>59 ST</td>\n",
       "      <td>NQR456W</td>\n",
       "      <td>03/31/2019</td>\n",
       "      <td>04:00:00</td>\n",
       "      <td>REGULAR</td>\n",
       "      <td>6999983</td>\n",
       "    </tr>\n",
       "    <tr>\n",
       "      <th>13</th>\n",
       "      <td>2019-04-01 04:00:00</td>\n",
       "      <td>A002</td>\n",
       "      <td>R051</td>\n",
       "      <td>02-00-00</td>\n",
       "      <td>59 ST</td>\n",
       "      <td>NQR456W</td>\n",
       "      <td>04/01/2019</td>\n",
       "      <td>04:00:00</td>\n",
       "      <td>REGULAR</td>\n",
       "      <td>7000539</td>\n",
       "    </tr>\n",
       "    <tr>\n",
       "      <th>19</th>\n",
       "      <td>2019-04-02 04:00:00</td>\n",
       "      <td>A002</td>\n",
       "      <td>R051</td>\n",
       "      <td>02-00-00</td>\n",
       "      <td>59 ST</td>\n",
       "      <td>NQR456W</td>\n",
       "      <td>04/02/2019</td>\n",
       "      <td>04:00:00</td>\n",
       "      <td>REGULAR</td>\n",
       "      <td>7002096</td>\n",
       "    </tr>\n",
       "    <tr>\n",
       "      <th>25</th>\n",
       "      <td>2019-04-03 04:00:00</td>\n",
       "      <td>A002</td>\n",
       "      <td>R051</td>\n",
       "      <td>02-00-00</td>\n",
       "      <td>59 ST</td>\n",
       "      <td>NQR456W</td>\n",
       "      <td>04/03/2019</td>\n",
       "      <td>04:00:00</td>\n",
       "      <td>REGULAR</td>\n",
       "      <td>7003693</td>\n",
       "    </tr>\n",
       "    <tr>\n",
       "      <th>...</th>\n",
       "      <td>...</td>\n",
       "      <td>...</td>\n",
       "      <td>...</td>\n",
       "      <td>...</td>\n",
       "      <td>...</td>\n",
       "      <td>...</td>\n",
       "      <td>...</td>\n",
       "      <td>...</td>\n",
       "      <td>...</td>\n",
       "      <td>...</td>\n",
       "    </tr>\n",
       "    <tr>\n",
       "      <th>201806</th>\n",
       "      <td>2019-04-15 04:00:00</td>\n",
       "      <td>S101A</td>\n",
       "      <td>R070</td>\n",
       "      <td>01-05-01</td>\n",
       "      <td>ST. GEORGE</td>\n",
       "      <td>1</td>\n",
       "      <td>04/15/2019</td>\n",
       "      <td>04:00:00</td>\n",
       "      <td>REGULAR</td>\n",
       "      <td>625</td>\n",
       "    </tr>\n",
       "    <tr>\n",
       "      <th>201812</th>\n",
       "      <td>2019-04-16 04:00:00</td>\n",
       "      <td>S101A</td>\n",
       "      <td>R070</td>\n",
       "      <td>01-05-01</td>\n",
       "      <td>ST. GEORGE</td>\n",
       "      <td>1</td>\n",
       "      <td>04/16/2019</td>\n",
       "      <td>04:00:00</td>\n",
       "      <td>REGULAR</td>\n",
       "      <td>626</td>\n",
       "    </tr>\n",
       "    <tr>\n",
       "      <th>201818</th>\n",
       "      <td>2019-04-17 04:00:00</td>\n",
       "      <td>S101A</td>\n",
       "      <td>R070</td>\n",
       "      <td>01-05-01</td>\n",
       "      <td>ST. GEORGE</td>\n",
       "      <td>1</td>\n",
       "      <td>04/17/2019</td>\n",
       "      <td>04:00:00</td>\n",
       "      <td>REGULAR</td>\n",
       "      <td>626</td>\n",
       "    </tr>\n",
       "    <tr>\n",
       "      <th>201824</th>\n",
       "      <td>2019-04-18 04:00:00</td>\n",
       "      <td>S101A</td>\n",
       "      <td>R070</td>\n",
       "      <td>01-05-01</td>\n",
       "      <td>ST. GEORGE</td>\n",
       "      <td>1</td>\n",
       "      <td>04/18/2019</td>\n",
       "      <td>04:00:00</td>\n",
       "      <td>REGULAR</td>\n",
       "      <td>626</td>\n",
       "    </tr>\n",
       "    <tr>\n",
       "      <th>201830</th>\n",
       "      <td>2019-04-19 04:00:00</td>\n",
       "      <td>S101A</td>\n",
       "      <td>R070</td>\n",
       "      <td>01-05-01</td>\n",
       "      <td>ST. GEORGE</td>\n",
       "      <td>1</td>\n",
       "      <td>04/19/2019</td>\n",
       "      <td>04:00:00</td>\n",
       "      <td>REGULAR</td>\n",
       "      <td>626</td>\n",
       "    </tr>\n",
       "  </tbody>\n",
       "</table>\n",
       "<p>51784 rows × 10 columns</p>\n",
       "</div>"
      ],
      "text/plain": [
       "                 DATE_TIME    C/A  UNIT       SCP     STATION LINENAME  \\\n",
       "1      2019-03-30 04:00:00   A002  R051  02-00-00       59 ST  NQR456W   \n",
       "7      2019-03-31 04:00:00   A002  R051  02-00-00       59 ST  NQR456W   \n",
       "13     2019-04-01 04:00:00   A002  R051  02-00-00       59 ST  NQR456W   \n",
       "19     2019-04-02 04:00:00   A002  R051  02-00-00       59 ST  NQR456W   \n",
       "25     2019-04-03 04:00:00   A002  R051  02-00-00       59 ST  NQR456W   \n",
       "...                    ...    ...   ...       ...         ...      ...   \n",
       "201806 2019-04-15 04:00:00  S101A  R070  01-05-01  ST. GEORGE        1   \n",
       "201812 2019-04-16 04:00:00  S101A  R070  01-05-01  ST. GEORGE        1   \n",
       "201818 2019-04-17 04:00:00  S101A  R070  01-05-01  ST. GEORGE        1   \n",
       "201824 2019-04-18 04:00:00  S101A  R070  01-05-01  ST. GEORGE        1   \n",
       "201830 2019-04-19 04:00:00  S101A  R070  01-05-01  ST. GEORGE        1   \n",
       "\n",
       "              DATE      TIME     DESC  ENTRIES  \n",
       "1       03/30/2019  04:00:00  REGULAR  6999084  \n",
       "7       03/31/2019  04:00:00  REGULAR  6999983  \n",
       "13      04/01/2019  04:00:00  REGULAR  7000539  \n",
       "19      04/02/2019  04:00:00  REGULAR  7002096  \n",
       "25      04/03/2019  04:00:00  REGULAR  7003693  \n",
       "...            ...       ...      ...      ...  \n",
       "201806  04/15/2019  04:00:00  REGULAR      625  \n",
       "201812  04/16/2019  04:00:00  REGULAR      626  \n",
       "201818  04/17/2019  04:00:00  REGULAR      626  \n",
       "201824  04/18/2019  04:00:00  REGULAR      626  \n",
       "201830  04/19/2019  04:00:00  REGULAR      626  \n",
       "\n",
       "[51784 rows x 10 columns]"
      ]
     },
     "execution_count": 6,
     "metadata": {},
     "output_type": "execute_result"
    }
   ],
   "source": [
    "# Mask selects the interval between 12:00 AM and 4:00 AM \n",
    "late_night_mask = (df['TIME'] == '04:00:00')\n",
    "late_night_df = df[late_night_mask]\n",
    "late_night_df"
   ]
  },
  {
   "cell_type": "code",
   "execution_count": null,
   "metadata": {},
   "outputs": [],
   "source": [
    "# Confirm df only has data from the 4:00 AM interval\n",
    "late_night_df.TIME.unique()"
   ]
  },
  {
   "cell_type": "markdown",
   "metadata": {},
   "source": [
    "## 3. Calculate late night entries"
   ]
  },
  {
   "cell_type": "code",
   "execution_count": null,
   "metadata": {},
   "outputs": [],
   "source": [
    "late_night_entries_df = late_night_df.copy()\n",
    "late_night_entries_df.head(2)"
   ]
  },
  {
   "cell_type": "code",
   "execution_count": null,
   "metadata": {},
   "outputs": [],
   "source": [
    "# What type of data are in the DESC column? REGULAR and RECOVR AUD\n",
    "# How many of the entries are RECOVR AUD? Can we filter them out? Yes, small percentage. \n",
    "late_night_entries_df.DESC.value_counts()"
   ]
  },
  {
   "cell_type": "code",
   "execution_count": null,
   "metadata": {},
   "outputs": [],
   "source": [
    "# Mask selects the REGULAR entries in the DESC column\n",
    "desc_mask = (late_night_entries_df['DESC'] == 'REGULAR')\n",
    "late_night_entries_df = (late_night_entries_df[desc_mask])"
   ]
  },
  {
   "cell_type": "code",
   "execution_count": null,
   "metadata": {},
   "outputs": [],
   "source": [
    "# Confirm that \"C/A\", \"UNIT\", \"SCP\", \"STATION\", \"DATE_TIME\" is unique\n",
    "(late_night_entries_df\n",
    " .groupby([\"C/A\", \"UNIT\", \"SCP\", \"STATION\", \"DATE_TIME\"])\n",
    " .ENTRIES.count()\n",
    " .reset_index()\n",
    " .sort_values(\"ENTRIES\", ascending=False)).head(5)"
   ]
  },
  {
   "cell_type": "code",
   "execution_count": null,
   "metadata": {},
   "outputs": [],
   "source": [
    "# Create new columns for the previous date and entries. \n",
    "# Apply a shift to calculate the previous day's entries. \n",
    "\n",
    "v = (late_night_entries_df[[\"DATE\", \"ENTRIES\"]].apply(lambda grp: grp.shift(1)))\n",
    "late_night_entries_df['PREV_DATE'] = v['DATE']\n",
    "late_night_entries_df['PREV_ENTRIES'] = v['ENTRIES']\n",
    "\n",
    "late_night_entries_df.head(2)"
   ]
  },
  {
   "cell_type": "code",
   "execution_count": null,
   "metadata": {},
   "outputs": [],
   "source": [
    "# Drop row with the March 31, 2019 data, used it to calculate the previous entries, no longer neeeded. \n",
    "late_night_entries_df.dropna(subset=[\"PREV_DATE\"], axis=0, inplace=True)\n",
    "late_night_entries_df.head(2)\n"
   ]
  },
  {
   "cell_type": "code",
   "execution_count": null,
   "metadata": {},
   "outputs": [],
   "source": [
    "# How many stations have a counter going in reverse? \n",
    "(late_night_entries_df[late_night_entries_df['ENTRIES'] < late_night_entries_df[\"PREV_ENTRIES\"]]\n",
    "    .groupby([\"C/A\", \"UNIT\", \"SCP\", \"STATION\"])\n",
    "    .size())\n"
   ]
  },
  {
   "cell_type": "code",
   "execution_count": null,
   "metadata": {},
   "outputs": [],
   "source": [
    "# Adjust counter before calculating daily entries\n",
    "def get_daily_counts(row, max_counter):\n",
    "    if row['ENTRIES'] > row['PREV_ENTRIES']:\n",
    "        counter = row['ENTRIES']\n",
    "    else:\n",
    "        counter = row[\"ENTRIES\"] - row[\"PREV_ENTRIES\"]\n",
    "    return counter\n",
    "\n",
    "late_night_entries_df[\"LATE_NIGHT_ENTRIES\"] = late_night_entries_df.apply(get_daily_counts, axis=1, max_counter=1000000)\n"
   ]
  },
  {
   "cell_type": "code",
   "execution_count": null,
   "metadata": {},
   "outputs": [],
   "source": [
    "# Add up all turnstiles per station and reset index \n",
    "late_night_entries_df = (late_night_entries_df\n",
    "                         .groupby(['STATION', 'DATE', 'LINENAME', 'TIME'])\n",
    "                         [['LATE_NIGHT_ENTRIES']]\n",
    "                         .sum()).reset_index()\n",
    "late_night_entries_df.head(2)"
   ]
  },
  {
   "cell_type": "code",
   "execution_count": null,
   "metadata": {},
   "outputs": [],
   "source": [
    "# Add column DAY_OF_WEEK to display day of week (Monday = 0, Sunday = 6)\n",
    "late_night_entries_df['DAY_OF_WEEK'] = pd.to_datetime(late_night_entries_df['DATE']).dt.dayofweek\n",
    "late_night_entries_df.head(2)\n"
   ]
  },
  {
   "cell_type": "markdown",
   "metadata": {},
   "source": [
    "## 4. Calculate rolling mean of late night entries"
   ]
  },
  {
   "cell_type": "code",
   "execution_count": null,
   "metadata": {},
   "outputs": [],
   "source": [
    "rolling_mean_df = late_night_entries_df.copy()\n",
    "rolling_mean_df.head(2)"
   ]
  },
  {
   "cell_type": "code",
   "execution_count": null,
   "metadata": {},
   "outputs": [],
   "source": [
    "# Add column ROLLING_MEAN to capture the weekly rolling mean for each station \n",
    "rolling_mean_df['ROLLING_MEAN'] = (rolling_mean_df\n",
    "                        .groupby('STATION')['LATE_NIGHT_ENTRIES']\n",
    "                        .transform(lambda x: x.rolling(7,1).mean()))\n",
    "# rolling_mean_df[['STATION','DATE','LATE_NIGHT_ENTRIES','ROLLING_MEAN','DAY_OF_WEEK']].head(2) \n",
    "rolling_mean_df"
   ]
  },
  {
   "cell_type": "code",
   "execution_count": null,
   "metadata": {},
   "outputs": [],
   "source": [
    "# Mask selects the last day of each station's rolling mean; Sunday=6\n",
    "last_rolling_day_mask = (rolling_mean_df['DAY_OF_WEEK'] == 6)\n",
    "rolling_mean_df = rolling_mean_df[last_rolling_day_mask]\n",
    "rolling_mean_df"
   ]
  },
  {
   "cell_type": "code",
   "execution_count": null,
   "metadata": {},
   "outputs": [],
   "source": [
    "# Comfirm df only has Sunday\n",
    "rolling_mean_df.DAY_OF_WEEK.unique()"
   ]
  },
  {
   "cell_type": "code",
   "execution_count": null,
   "metadata": {},
   "outputs": [],
   "source": [
    "# Confirm one row per station: 486 stations and 486 rows\n",
    "print('Num stations:',rolling_mean_df.STATION.count())\n",
    "print('\\n')\n",
    "rolling_mean_df.info()"
   ]
  },
  {
   "cell_type": "code",
   "execution_count": null,
   "metadata": {},
   "outputs": [],
   "source": [
    "# Sort by ROLLING_MEAN and reset index \n",
    "rolling_mean_df = rolling_mean_df.sort_values('ROLLING_MEAN', ascending=False).reset_index()\n",
    "rolling_mean_df"
   ]
  },
  {
   "cell_type": "code",
   "execution_count": null,
   "metadata": {},
   "outputs": [],
   "source": [
    "rolling_mean_top_ten = rolling_mean_df.loc[:20]\n",
    "rolling_mean_top_ten.head(20)"
   ]
  },
  {
   "cell_type": "markdown",
   "metadata": {},
   "source": [
    "### What stations outside of Manhattan have high late night entries on average?"
   ]
  },
  {
   "cell_type": "code",
   "execution_count": null,
   "metadata": {},
   "outputs": [],
   "source": [
    "# # Plot top ten stations with the highest weekly rolling mean on Sunday vs stations\n",
    "\n",
    "# plt.figure(figsize = (15,8))\n",
    "# ax = sns.barplot(x = 'STATION', y = 'ROLLING_MEAN',data = rolling_mean_top_ten, color='purple')\n",
    "# ax.set_xticklabels(ax.get_xticklabels(),rotation = 90)\n",
    "# ax.set(title='Rolling mean number of entries vs. Stations');\n",
    "# ax.set(xlabel=('Station'))\n",
    "# ax.set(ylabel=('Rolling mean number of entries on last reporting day (Sunday)'))\n",
    "# plt.grid();\n"
   ]
  },
  {
   "cell_type": "markdown",
   "metadata": {},
   "source": [
    "The stations outside of Manhattan with high late night entries on average:\n",
    "* Atlantic Avenue-Barclay (Brooklyn, 2345BDNQR trains)\n",
    "* Flushing-Main Street (Queens, 7 train)\n",
    "* Jackson Heights-Roosevelt (Queens, EFMR7 trains)\n",
    "\n",
    "Two stations are both in Queens and on the 7 train. \n",
    "Which 7 train stations in Queens have high late night traffic? "
   ]
  },
  {
   "cell_type": "markdown",
   "metadata": {},
   "source": [
    "# 7 Train: From Flushing Main St to 34 St Hudson Yards"
   ]
  },
  {
   "cell_type": "code",
   "execution_count": null,
   "metadata": {},
   "outputs": [],
   "source": [
    "seven_line_df = rolling_mean_df.copy() # Using df with rolling mean, before sliced for top 10\n",
    "seven_line_df.head(2)"
   ]
  },
  {
   "cell_type": "code",
   "execution_count": null,
   "metadata": {},
   "outputs": [],
   "source": [
    "# Looking for linename of interest: 7 line \n",
    "seven_line_df = seven_line_df[seven_line_df['LINENAME'].str.contains('7', na=False)] \n",
    "seven_line_df.head(10)\n",
    "# The 7 train shares stations with other train lines. Will omit multi-train stations in this analysis. \n",
    "# Line name as recorded in dataset: 7\n"
   ]
  },
  {
   "cell_type": "code",
   "execution_count": null,
   "metadata": {},
   "outputs": [],
   "source": [
    "seven_mask = (seven_line_df['LINENAME'] == '7')\n",
    "seven_line_df = seven_line_df[seven_mask]\n",
    "seven_line_df.head(2)"
   ]
  },
  {
   "cell_type": "code",
   "execution_count": null,
   "metadata": {},
   "outputs": [],
   "source": [
    "# Comfirm df has only 7 line data\n",
    "seven_line_df.LINENAME.unique()"
   ]
  },
  {
   "cell_type": "code",
   "execution_count": null,
   "metadata": {},
   "outputs": [],
   "source": [
    "# How many 7 train stations in this dataset? 12\n",
    "len(seven_line_df.STATION.unique())"
   ]
  },
  {
   "cell_type": "code",
   "execution_count": null,
   "metadata": {},
   "outputs": [],
   "source": [
    "# How many stations in Queens? All but one, 34 ST-HUDSON YD.   \n",
    "seven_line_df.STATION.unique()"
   ]
  },
  {
   "cell_type": "code",
   "execution_count": null,
   "metadata": {},
   "outputs": [],
   "source": [
    "# Maks selects only the Queens stations\n",
    "queens_mask = (seven_line_df['STATION'] != '34 ST-HUDSON YD')\n",
    "seven_line_df = seven_line_df[queens_mask]\n",
    "seven_line_df.head(20)"
   ]
  },
  {
   "cell_type": "markdown",
   "metadata": {},
   "source": [
    "### Which 7 train stations in Queens have high late night traffic? "
   ]
  },
  {
   "cell_type": "code",
   "execution_count": null,
   "metadata": {},
   "outputs": [],
   "source": [
    "# Plot 7 line in Queens: Rolling average late night entries vs Queens 7 train stations\n",
    "\n",
    "plt.figure(figsize = (15,8))\n",
    "ax = sns.barplot(x = 'STATION', y = 'ROLLING_MEAN',data = seven_line_df.sort_values('ROLLING_MEAN'), color='purple')\n",
    "ax.set_xticklabels(ax.get_xticklabels(),rotation = 45)\n",
    "ax.set(title='Rolling Average Late Night Entries vs. Queens 7 Train Stations')\n",
    "ax.set(xlabel=('Queens 7 Train Stations'))\n",
    "ax.set(ylabel=('Rolling average late night entries'))\n",
    "plt.grid();\n"
   ]
  },
  {
   "cell_type": "markdown",
   "metadata": {},
   "source": [
    "# DOUBLE CHECK NUMBERS\n",
    "The range of people entering a station on the 7 train during late-night hours is ~8,000 to ~48,000 \n",
    "\n",
    "* Flushing-Main Street: ~40,000\n",
    "* Junction Boulevard: ~16,000\n",
    "* 103 Street-Corona: ~15,000\n",
    "\n",
    "One station has high late night traffic. What days are the busiest at Flushing Station? \n",
    "\n"
   ]
  },
  {
   "cell_type": "markdown",
   "metadata": {},
   "source": [
    "## Flushing Station"
   ]
  },
  {
   "cell_type": "code",
   "execution_count": null,
   "metadata": {},
   "outputs": [],
   "source": [
    "flushing_df = late_night_entries_df.copy() #Use df before rolling mean and extract Flushing. "
   ]
  },
  {
   "cell_type": "code",
   "execution_count": null,
   "metadata": {},
   "outputs": [],
   "source": [
    "# Mask selects FLUSHING-MAIN\n",
    "flushing_mask = (flushing_df['STATION'] == 'FLUSHING-MAIN')"
   ]
  },
  {
   "cell_type": "code",
   "execution_count": null,
   "metadata": {},
   "outputs": [],
   "source": [
    "flushing_df = flushing_df[flushing_mask]\n",
    "flushing_df.STATION.unique()\n",
    "# confirm df has data from station of interest"
   ]
  },
  {
   "cell_type": "code",
   "execution_count": null,
   "metadata": {},
   "outputs": [],
   "source": [
    "flushing_df.head(20)"
   ]
  },
  {
   "cell_type": "code",
   "execution_count": null,
   "metadata": {},
   "outputs": [],
   "source": [
    "# Calculate Flushing WEEK_DAY_MEAN\n",
    "flushing_df['WEEK_DAY_MEAN'] = (flushing_df\n",
    "                                .groupby('DAY_OF_WEEK')['LATE_NIGHT_ENTRIES']\n",
    "                                .transform(lambda x: x.mean()))\n",
    "flushing_df.head(2)"
   ]
  },
  {
   "cell_type": "markdown",
   "metadata": {},
   "source": [
    "### What days are the busiest at Flushing Station?"
   ]
  },
  {
   "cell_type": "code",
   "execution_count": null,
   "metadata": {},
   "outputs": [],
   "source": [
    "# Plot Flushing : Weekday average late night entries vs day of week\n",
    "\n",
    "plt.figure(figsize = (15,8))\n",
    "ax = sns.barplot(x = 'DAY_OF_WEEK', y = 'WEEK_DAY_MEAN',data = flushing_df, color='purple')\n",
    "ax.set(title='Weekday Average Late Night Entries vs Day of Week')\n",
    "ax.set(xlabel=('Day of week'))\n",
    "ax.set_xticklabels(['Mon','Tue','Wed','Thu','Fri','Sat','Sun'],rotation = 0)\n",
    "ax.set(ylabel=('Weekday average late night entries'))\n",
    "\n",
    "plt.grid();\n"
   ]
  },
  {
   "cell_type": "markdown",
   "metadata": {},
   "source": [
    "Two week days have the highest late-night traffic at the Flushing station:\n",
    "* Thursdays: ~60,000\n",
    "* Friday: ~60,000"
   ]
  },
  {
   "cell_type": "code",
   "execution_count": null,
   "metadata": {},
   "outputs": [],
   "source": []
  },
  {
   "cell_type": "code",
   "execution_count": null,
   "metadata": {},
   "outputs": [],
   "source": []
  },
  {
   "cell_type": "code",
   "execution_count": null,
   "metadata": {},
   "outputs": [],
   "source": []
  },
  {
   "cell_type": "code",
   "execution_count": null,
   "metadata": {},
   "outputs": [],
   "source": []
  }
 ],
 "metadata": {
  "kernelspec": {
   "display_name": "Python 3 (ipykernel)",
   "language": "python",
   "name": "python3"
  },
  "language_info": {
   "codemirror_mode": {
    "name": "ipython",
    "version": 3
   },
   "file_extension": ".py",
   "mimetype": "text/x-python",
   "name": "python",
   "nbconvert_exporter": "python",
   "pygments_lexer": "ipython3",
   "version": "3.8.12"
  },
  "toc": {
   "base_numbering": 1,
   "nav_menu": {},
   "number_sections": false,
   "sideBar": true,
   "skip_h1_title": false,
   "title_cell": "Table of Contents",
   "title_sidebar": "Contents",
   "toc_cell": false,
   "toc_position": {
    "height": "calc(100% - 180px)",
    "left": "10px",
    "top": "150px",
    "width": "288px"
   },
   "toc_section_display": true,
   "toc_window_display": true
  }
 },
 "nbformat": 4,
 "nbformat_minor": 4
}
