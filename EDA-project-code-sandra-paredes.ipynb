{
 "cells": [
  {
   "cell_type": "markdown",
   "metadata": {},
   "source": [
    "# COVID Testing and Health Equity \n"
   ]
  },
  {
   "cell_type": "code",
   "execution_count": 1,
   "metadata": {},
   "outputs": [],
   "source": [
    "import pandas as pd\n",
    "import numpy as np\n",
    "%matplotlib inline\n",
    "import matplotlib.pyplot as plt\n",
    "import matplotlib as mpl\n",
    "import seaborn as sns\n",
    "pd.options.display.float_format = \"{:,.0f}\".format\n"
   ]
  },
  {
   "cell_type": "markdown",
   "metadata": {},
   "source": [
    "## 1. Import and clean MTA turnstile data\n",
    "Source: http://web.mta.info/developers/turnstile.html"
   ]
  },
  {
   "cell_type": "code",
   "execution_count": 2,
   "metadata": {},
   "outputs": [],
   "source": [
    "# Load data from April, May, and June 2019, data is loaded on Saturdays.\n",
    "\n",
    "def get_data_parse_dt(week_nums):\n",
    "    url = \"http://web.mta.info/developers/data/nyct/turnstile/turnstile_{}.txt\"\n",
    "    dfs = []\n",
    "    for week_num in week_nums:\n",
    "        file_url = url.format(week_num)\n",
    "        dfs.append(pd.read_csv(file_url, parse_dates=[['DATE','TIME']], usecols = [0,1,2,3,4,6,7,8,9], keep_date_col=True))\n",
    "    return pd.concat(dfs)\n",
    "\n",
    "# Create a datetime column using data from columns DATE and TIME during import\n",
    "week_nums = [190406, 190413, 190420, 190427, 190504, 190511, 190518, 190525, 190601, 190608, 190615, 190622, 190629]\n",
    "df = get_data_parse_dt(week_nums)\n"
   ]
  },
  {
   "cell_type": "code",
   "execution_count": 3,
   "metadata": {},
   "outputs": [
    {
     "data": {
      "text/plain": [
       "DATE_TIME     172268\n",
       "C/A              747\n",
       "UNIT             469\n",
       "SCP              223\n",
       "STATION          378\n",
       "LINENAME         114\n",
       "DATE              91\n",
       "TIME           64013\n",
       "DESC               2\n",
       "ENTRIES      1909914\n",
       "dtype: int64"
      ]
     },
     "execution_count": 3,
     "metadata": {},
     "output_type": "execute_result"
    }
   ],
   "source": [
    "# How many unique values in each column\n",
    "df.nunique()\n",
    "# There are 378 stations"
   ]
  },
  {
   "cell_type": "code",
   "execution_count": 4,
   "metadata": {
    "scrolled": true
   },
   "outputs": [
    {
     "data": {
      "text/plain": [
       "Index(['DATE_TIME', 'C/A', 'UNIT', 'SCP', 'STATION', 'LINENAME', 'DATE',\n",
       "       'TIME', 'DESC', 'ENTRIES'],\n",
       "      dtype='object')"
      ]
     },
     "execution_count": 4,
     "metadata": {},
     "output_type": "execute_result"
    }
   ],
   "source": [
    "df.columns"
   ]
  },
  {
   "cell_type": "code",
   "execution_count": 5,
   "metadata": {},
   "outputs": [
    {
     "data": {
      "text/plain": [
       "Index(['DATE_TIME', 'C/A', 'UNIT', 'SCP', 'STATION', 'LINENAME', 'DATE',\n",
       "       'TIME', 'DESC', 'ENTRIES'],\n",
       "      dtype='object')"
      ]
     },
     "execution_count": 5,
     "metadata": {},
     "output_type": "execute_result"
    }
   ],
   "source": [
    "# Strip whitespace from column names\n",
    "df.columns = [column.strip() for column in df.columns]\n",
    "df.columns"
   ]
  },
  {
   "cell_type": "markdown",
   "metadata": {},
   "source": [
    "## 2. Select late night entry data"
   ]
  },
  {
   "cell_type": "code",
   "execution_count": 6,
   "metadata": {},
   "outputs": [],
   "source": [
    "late_night_mask = df.copy()"
   ]
  },
  {
   "cell_type": "code",
   "execution_count": 7,
   "metadata": {
    "scrolled": true
   },
   "outputs": [
    {
     "data": {
      "text/html": [
       "<div>\n",
       "<style scoped>\n",
       "    .dataframe tbody tr th:only-of-type {\n",
       "        vertical-align: middle;\n",
       "    }\n",
       "\n",
       "    .dataframe tbody tr th {\n",
       "        vertical-align: top;\n",
       "    }\n",
       "\n",
       "    .dataframe thead th {\n",
       "        text-align: right;\n",
       "    }\n",
       "</style>\n",
       "<table border=\"1\" class=\"dataframe\">\n",
       "  <thead>\n",
       "    <tr style=\"text-align: right;\">\n",
       "      <th></th>\n",
       "      <th>DATE_TIME</th>\n",
       "      <th>C/A</th>\n",
       "      <th>UNIT</th>\n",
       "      <th>SCP</th>\n",
       "      <th>STATION</th>\n",
       "      <th>LINENAME</th>\n",
       "      <th>DATE</th>\n",
       "      <th>TIME</th>\n",
       "      <th>DESC</th>\n",
       "      <th>ENTRIES</th>\n",
       "    </tr>\n",
       "  </thead>\n",
       "  <tbody>\n",
       "    <tr>\n",
       "      <th>1</th>\n",
       "      <td>2019-03-30 04:00:00</td>\n",
       "      <td>A002</td>\n",
       "      <td>R051</td>\n",
       "      <td>02-00-00</td>\n",
       "      <td>59 ST</td>\n",
       "      <td>NQR456W</td>\n",
       "      <td>03/30/2019</td>\n",
       "      <td>04:00:00</td>\n",
       "      <td>REGULAR</td>\n",
       "      <td>6999084</td>\n",
       "    </tr>\n",
       "    <tr>\n",
       "      <th>7</th>\n",
       "      <td>2019-03-31 04:00:00</td>\n",
       "      <td>A002</td>\n",
       "      <td>R051</td>\n",
       "      <td>02-00-00</td>\n",
       "      <td>59 ST</td>\n",
       "      <td>NQR456W</td>\n",
       "      <td>03/31/2019</td>\n",
       "      <td>04:00:00</td>\n",
       "      <td>REGULAR</td>\n",
       "      <td>6999983</td>\n",
       "    </tr>\n",
       "  </tbody>\n",
       "</table>\n",
       "</div>"
      ],
      "text/plain": [
       "            DATE_TIME   C/A  UNIT       SCP STATION LINENAME        DATE  \\\n",
       "1 2019-03-30 04:00:00  A002  R051  02-00-00   59 ST  NQR456W  03/30/2019   \n",
       "7 2019-03-31 04:00:00  A002  R051  02-00-00   59 ST  NQR456W  03/31/2019   \n",
       "\n",
       "       TIME     DESC  ENTRIES  \n",
       "1  04:00:00  REGULAR  6999084  \n",
       "7  04:00:00  REGULAR  6999983  "
      ]
     },
     "execution_count": 7,
     "metadata": {},
     "output_type": "execute_result"
    }
   ],
   "source": [
    "# Mask selects the interval between 12:00 AM and 4:00 AM \n",
    "late_night_mask = (df['TIME'] == '04:00:00')\n",
    "late_night_df = df[late_night_mask]\n",
    "late_night_df.head(2)"
   ]
  },
  {
   "cell_type": "code",
   "execution_count": 8,
   "metadata": {},
   "outputs": [
    {
     "data": {
      "text/plain": [
       "array(['04:00:00'], dtype=object)"
      ]
     },
     "execution_count": 8,
     "metadata": {},
     "output_type": "execute_result"
    }
   ],
   "source": [
    "# Confirm df only has data from the 4:00 AM interval\n",
    "late_night_df.TIME.unique()"
   ]
  },
  {
   "cell_type": "markdown",
   "metadata": {},
   "source": [
    "## 3. Calculate late night entries"
   ]
  },
  {
   "cell_type": "code",
   "execution_count": 9,
   "metadata": {},
   "outputs": [
    {
     "data": {
      "text/html": [
       "<div>\n",
       "<style scoped>\n",
       "    .dataframe tbody tr th:only-of-type {\n",
       "        vertical-align: middle;\n",
       "    }\n",
       "\n",
       "    .dataframe tbody tr th {\n",
       "        vertical-align: top;\n",
       "    }\n",
       "\n",
       "    .dataframe thead th {\n",
       "        text-align: right;\n",
       "    }\n",
       "</style>\n",
       "<table border=\"1\" class=\"dataframe\">\n",
       "  <thead>\n",
       "    <tr style=\"text-align: right;\">\n",
       "      <th></th>\n",
       "      <th>DATE_TIME</th>\n",
       "      <th>C/A</th>\n",
       "      <th>UNIT</th>\n",
       "      <th>SCP</th>\n",
       "      <th>STATION</th>\n",
       "      <th>LINENAME</th>\n",
       "      <th>DATE</th>\n",
       "      <th>TIME</th>\n",
       "      <th>DESC</th>\n",
       "      <th>ENTRIES</th>\n",
       "    </tr>\n",
       "  </thead>\n",
       "  <tbody>\n",
       "    <tr>\n",
       "      <th>1</th>\n",
       "      <td>2019-03-30 04:00:00</td>\n",
       "      <td>A002</td>\n",
       "      <td>R051</td>\n",
       "      <td>02-00-00</td>\n",
       "      <td>59 ST</td>\n",
       "      <td>NQR456W</td>\n",
       "      <td>03/30/2019</td>\n",
       "      <td>04:00:00</td>\n",
       "      <td>REGULAR</td>\n",
       "      <td>6999084</td>\n",
       "    </tr>\n",
       "    <tr>\n",
       "      <th>7</th>\n",
       "      <td>2019-03-31 04:00:00</td>\n",
       "      <td>A002</td>\n",
       "      <td>R051</td>\n",
       "      <td>02-00-00</td>\n",
       "      <td>59 ST</td>\n",
       "      <td>NQR456W</td>\n",
       "      <td>03/31/2019</td>\n",
       "      <td>04:00:00</td>\n",
       "      <td>REGULAR</td>\n",
       "      <td>6999983</td>\n",
       "    </tr>\n",
       "  </tbody>\n",
       "</table>\n",
       "</div>"
      ],
      "text/plain": [
       "            DATE_TIME   C/A  UNIT       SCP STATION LINENAME        DATE  \\\n",
       "1 2019-03-30 04:00:00  A002  R051  02-00-00   59 ST  NQR456W  03/30/2019   \n",
       "7 2019-03-31 04:00:00  A002  R051  02-00-00   59 ST  NQR456W  03/31/2019   \n",
       "\n",
       "       TIME     DESC  ENTRIES  \n",
       "1  04:00:00  REGULAR  6999084  \n",
       "7  04:00:00  REGULAR  6999983  "
      ]
     },
     "execution_count": 9,
     "metadata": {},
     "output_type": "execute_result"
    }
   ],
   "source": [
    "late_night_entries_df = late_night_df.copy()\n",
    "late_night_entries_df.head(2)"
   ]
  },
  {
   "cell_type": "code",
   "execution_count": 10,
   "metadata": {},
   "outputs": [
    {
     "data": {
      "text/plain": [
       "REGULAR       223797\n",
       "RECOVR AUD      1076\n",
       "Name: DESC, dtype: int64"
      ]
     },
     "execution_count": 10,
     "metadata": {},
     "output_type": "execute_result"
    }
   ],
   "source": [
    "# What type of data are in the DESC column? REGULAR and RECOVR AUD\n",
    "# How many of the entries are RECOVR AUD? Can we filter them out? Yes, small percentage. \n",
    "late_night_entries_df.DESC.value_counts()"
   ]
  },
  {
   "cell_type": "code",
   "execution_count": 11,
   "metadata": {},
   "outputs": [],
   "source": [
    "# Mask selects the REGULAR entries in the DESC column\n",
    "desc_mask = (late_night_entries_df['DESC'] == 'REGULAR')\n",
    "late_night_entries_df = (late_night_entries_df[desc_mask])"
   ]
  },
  {
   "cell_type": "code",
   "execution_count": 12,
   "metadata": {},
   "outputs": [
    {
     "data": {
      "text/html": [
       "<div>\n",
       "<style scoped>\n",
       "    .dataframe tbody tr th:only-of-type {\n",
       "        vertical-align: middle;\n",
       "    }\n",
       "\n",
       "    .dataframe tbody tr th {\n",
       "        vertical-align: top;\n",
       "    }\n",
       "\n",
       "    .dataframe thead th {\n",
       "        text-align: right;\n",
       "    }\n",
       "</style>\n",
       "<table border=\"1\" class=\"dataframe\">\n",
       "  <thead>\n",
       "    <tr style=\"text-align: right;\">\n",
       "      <th></th>\n",
       "      <th>C/A</th>\n",
       "      <th>UNIT</th>\n",
       "      <th>SCP</th>\n",
       "      <th>STATION</th>\n",
       "      <th>DATE_TIME</th>\n",
       "      <th>ENTRIES</th>\n",
       "    </tr>\n",
       "  </thead>\n",
       "  <tbody>\n",
       "    <tr>\n",
       "      <th>0</th>\n",
       "      <td>A002</td>\n",
       "      <td>R051</td>\n",
       "      <td>02-00-00</td>\n",
       "      <td>59 ST</td>\n",
       "      <td>2019-03-30 04:00:00</td>\n",
       "      <td>1</td>\n",
       "    </tr>\n",
       "    <tr>\n",
       "      <th>149202</th>\n",
       "      <td>R148</td>\n",
       "      <td>R033</td>\n",
       "      <td>01-03-00</td>\n",
       "      <td>TIMES SQ-42 ST</td>\n",
       "      <td>2019-03-30 04:00:00</td>\n",
       "      <td>1</td>\n",
       "    </tr>\n",
       "    <tr>\n",
       "      <th>149191</th>\n",
       "      <td>R148</td>\n",
       "      <td>R033</td>\n",
       "      <td>01-00-01</td>\n",
       "      <td>TIMES SQ-42 ST</td>\n",
       "      <td>2019-06-18 04:00:00</td>\n",
       "      <td>1</td>\n",
       "    </tr>\n",
       "    <tr>\n",
       "      <th>149192</th>\n",
       "      <td>R148</td>\n",
       "      <td>R033</td>\n",
       "      <td>01-00-01</td>\n",
       "      <td>TIMES SQ-42 ST</td>\n",
       "      <td>2019-06-19 04:00:00</td>\n",
       "      <td>1</td>\n",
       "    </tr>\n",
       "    <tr>\n",
       "      <th>149193</th>\n",
       "      <td>R148</td>\n",
       "      <td>R033</td>\n",
       "      <td>01-00-01</td>\n",
       "      <td>TIMES SQ-42 ST</td>\n",
       "      <td>2019-06-20 04:00:00</td>\n",
       "      <td>1</td>\n",
       "    </tr>\n",
       "  </tbody>\n",
       "</table>\n",
       "</div>"
      ],
      "text/plain": [
       "         C/A  UNIT       SCP         STATION           DATE_TIME  ENTRIES\n",
       "0       A002  R051  02-00-00           59 ST 2019-03-30 04:00:00        1\n",
       "149202  R148  R033  01-03-00  TIMES SQ-42 ST 2019-03-30 04:00:00        1\n",
       "149191  R148  R033  01-00-01  TIMES SQ-42 ST 2019-06-18 04:00:00        1\n",
       "149192  R148  R033  01-00-01  TIMES SQ-42 ST 2019-06-19 04:00:00        1\n",
       "149193  R148  R033  01-00-01  TIMES SQ-42 ST 2019-06-20 04:00:00        1"
      ]
     },
     "execution_count": 12,
     "metadata": {},
     "output_type": "execute_result"
    }
   ],
   "source": [
    "# Confirm that \"C/A\", \"UNIT\", \"SCP\", \"STATION\", \"DATE_TIME\" is unique\n",
    "(late_night_entries_df\n",
    " .groupby([\"C/A\", \"UNIT\", \"SCP\", \"STATION\", \"DATE_TIME\"])\n",
    " .ENTRIES.count()\n",
    " .reset_index()\n",
    " .sort_values(\"ENTRIES\", ascending=False)).head(5)"
   ]
  },
  {
   "cell_type": "code",
   "execution_count": 13,
   "metadata": {},
   "outputs": [
    {
     "data": {
      "text/html": [
       "<div>\n",
       "<style scoped>\n",
       "    .dataframe tbody tr th:only-of-type {\n",
       "        vertical-align: middle;\n",
       "    }\n",
       "\n",
       "    .dataframe tbody tr th {\n",
       "        vertical-align: top;\n",
       "    }\n",
       "\n",
       "    .dataframe thead th {\n",
       "        text-align: right;\n",
       "    }\n",
       "</style>\n",
       "<table border=\"1\" class=\"dataframe\">\n",
       "  <thead>\n",
       "    <tr style=\"text-align: right;\">\n",
       "      <th></th>\n",
       "      <th>DATE_TIME</th>\n",
       "      <th>C/A</th>\n",
       "      <th>UNIT</th>\n",
       "      <th>SCP</th>\n",
       "      <th>STATION</th>\n",
       "      <th>LINENAME</th>\n",
       "      <th>DATE</th>\n",
       "      <th>TIME</th>\n",
       "      <th>DESC</th>\n",
       "      <th>ENTRIES</th>\n",
       "      <th>PREV_DATE</th>\n",
       "      <th>PREV_ENTRIES</th>\n",
       "    </tr>\n",
       "  </thead>\n",
       "  <tbody>\n",
       "    <tr>\n",
       "      <th>1</th>\n",
       "      <td>2019-03-30 04:00:00</td>\n",
       "      <td>A002</td>\n",
       "      <td>R051</td>\n",
       "      <td>02-00-00</td>\n",
       "      <td>59 ST</td>\n",
       "      <td>NQR456W</td>\n",
       "      <td>03/30/2019</td>\n",
       "      <td>04:00:00</td>\n",
       "      <td>REGULAR</td>\n",
       "      <td>6999084</td>\n",
       "      <td>NaN</td>\n",
       "      <td>NaN</td>\n",
       "    </tr>\n",
       "    <tr>\n",
       "      <th>7</th>\n",
       "      <td>2019-03-31 04:00:00</td>\n",
       "      <td>A002</td>\n",
       "      <td>R051</td>\n",
       "      <td>02-00-00</td>\n",
       "      <td>59 ST</td>\n",
       "      <td>NQR456W</td>\n",
       "      <td>03/31/2019</td>\n",
       "      <td>04:00:00</td>\n",
       "      <td>REGULAR</td>\n",
       "      <td>6999983</td>\n",
       "      <td>03/30/2019</td>\n",
       "      <td>6,999,084</td>\n",
       "    </tr>\n",
       "  </tbody>\n",
       "</table>\n",
       "</div>"
      ],
      "text/plain": [
       "            DATE_TIME   C/A  UNIT       SCP STATION LINENAME        DATE  \\\n",
       "1 2019-03-30 04:00:00  A002  R051  02-00-00   59 ST  NQR456W  03/30/2019   \n",
       "7 2019-03-31 04:00:00  A002  R051  02-00-00   59 ST  NQR456W  03/31/2019   \n",
       "\n",
       "       TIME     DESC  ENTRIES   PREV_DATE  PREV_ENTRIES  \n",
       "1  04:00:00  REGULAR  6999084         NaN           NaN  \n",
       "7  04:00:00  REGULAR  6999983  03/30/2019     6,999,084  "
      ]
     },
     "execution_count": 13,
     "metadata": {},
     "output_type": "execute_result"
    }
   ],
   "source": [
    "# Create new columns for the previous date and entries. \n",
    "# Apply a shift to calculate the previous day's entries. \n",
    "\n",
    "v = (late_night_entries_df[[\"DATE\", \"ENTRIES\"]].apply(lambda grp: grp.shift(1)))\n",
    "late_night_entries_df['PREV_DATE'] = v['DATE']\n",
    "late_night_entries_df['PREV_ENTRIES'] = v['ENTRIES']\n",
    "\n",
    "late_night_entries_df.head(2)"
   ]
  },
  {
   "cell_type": "code",
   "execution_count": 14,
   "metadata": {},
   "outputs": [
    {
     "data": {
      "text/plain": [
       "C/A    UNIT  SCP       STATION   \n",
       "A002   R051  02-00-01  59 ST         13\n",
       "             02-03-00  59 ST         13\n",
       "             02-03-01  59 ST         13\n",
       "             02-03-03  59 ST         13\n",
       "             02-03-06  59 ST         13\n",
       "                                     ..\n",
       "S101A  R070  01-03-01  ST. GEORGE    13\n",
       "             01-03-02  ST. GEORGE    13\n",
       "             01-03-03  ST. GEORGE    13\n",
       "             01-05-00  ST. GEORGE    13\n",
       "             01-05-01  ST. GEORGE    13\n",
       "Length: 1337, dtype: int64"
      ]
     },
     "execution_count": 14,
     "metadata": {},
     "output_type": "execute_result"
    }
   ],
   "source": [
    "# How many stations have a counter going in reverse? \n",
    "(late_night_entries_df[late_night_entries_df['ENTRIES'] < late_night_entries_df[\"PREV_ENTRIES\"]]\n",
    "    .groupby([\"C/A\", \"UNIT\", \"SCP\", \"STATION\"])\n",
    "    .size())\n"
   ]
  },
  {
   "cell_type": "code",
   "execution_count": 15,
   "metadata": {},
   "outputs": [],
   "source": [
    "# Adjust counter \n",
    "def get_daily_counts(row, max_counter):\n",
    "    counter = row[\"ENTRIES\"] - row[\"PREV_ENTRIES\"]\n",
    "    if counter < 0:\n",
    "        # Maybe counter is reversed?\n",
    "        counter = -counter\n",
    "    if counter > max_counter:\n",
    "        # Maybe counter was reset to 0? \n",
    "        print(row[\"ENTRIES\"], row[\"PREV_ENTRIES\"])\n",
    "        counter = min(row[\"ENTRIES\"], row[\"PREV_ENTRIES\"])\n",
    "    if counter > max_counter:\n",
    "        # Check it again to make sure we're not still giving a counter that's too big\n",
    "        return 0\n",
    "    return counter\n"
   ]
  },
  {
   "cell_type": "code",
   "execution_count": 22,
   "metadata": {},
   "outputs": [
    {
     "data": {
      "text/html": [
       "<div>\n",
       "<style scoped>\n",
       "    .dataframe tbody tr th:only-of-type {\n",
       "        vertical-align: middle;\n",
       "    }\n",
       "\n",
       "    .dataframe tbody tr th {\n",
       "        vertical-align: top;\n",
       "    }\n",
       "\n",
       "    .dataframe thead th {\n",
       "        text-align: right;\n",
       "    }\n",
       "</style>\n",
       "<table border=\"1\" class=\"dataframe\">\n",
       "  <thead>\n",
       "    <tr style=\"text-align: right;\">\n",
       "      <th></th>\n",
       "      <th>STATION</th>\n",
       "      <th>DATE_TIME</th>\n",
       "      <th>LINENAME</th>\n",
       "      <th>LATE_NIGHT_ENTRIES</th>\n",
       "      <th>DAY_OF_WEEK</th>\n",
       "    </tr>\n",
       "  </thead>\n",
       "  <tbody>\n",
       "    <tr>\n",
       "      <th>0</th>\n",
       "      <td>1 AV</td>\n",
       "      <td>2019-03-30 04:00:00</td>\n",
       "      <td>L</td>\n",
       "      <td>1,618,348</td>\n",
       "      <td>5</td>\n",
       "    </tr>\n",
       "    <tr>\n",
       "      <th>1</th>\n",
       "      <td>1 AV</td>\n",
       "      <td>2019-03-31 04:00:00</td>\n",
       "      <td>L</td>\n",
       "      <td>15,402</td>\n",
       "      <td>6</td>\n",
       "    </tr>\n",
       "  </tbody>\n",
       "</table>\n",
       "</div>"
      ],
      "text/plain": [
       "  STATION           DATE_TIME LINENAME  LATE_NIGHT_ENTRIES  DAY_OF_WEEK\n",
       "0    1 AV 2019-03-30 04:00:00        L           1,618,348            5\n",
       "1    1 AV 2019-03-31 04:00:00        L              15,402            6"
      ]
     },
     "execution_count": 22,
     "metadata": {},
     "output_type": "execute_result"
    }
   ],
   "source": [
    "# late_night_entries_df[\"LATE_NIGHT_ENTRIES\"] = late_night_entries_df.apply(get_daily_counts, axis=1, max_counter=1000000)\n",
    "late_night_entries_df.head(2)"
   ]
  },
  {
   "cell_type": "code",
   "execution_count": 17,
   "metadata": {},
   "outputs": [
    {
     "data": {
      "text/html": [
       "<div>\n",
       "<style scoped>\n",
       "    .dataframe tbody tr th:only-of-type {\n",
       "        vertical-align: middle;\n",
       "    }\n",
       "\n",
       "    .dataframe tbody tr th {\n",
       "        vertical-align: top;\n",
       "    }\n",
       "\n",
       "    .dataframe thead th {\n",
       "        text-align: right;\n",
       "    }\n",
       "</style>\n",
       "<table border=\"1\" class=\"dataframe\">\n",
       "  <thead>\n",
       "    <tr style=\"text-align: right;\">\n",
       "      <th></th>\n",
       "      <th>DATE_TIME</th>\n",
       "      <th>C/A</th>\n",
       "      <th>UNIT</th>\n",
       "      <th>SCP</th>\n",
       "      <th>STATION</th>\n",
       "      <th>LINENAME</th>\n",
       "      <th>DATE</th>\n",
       "      <th>TIME</th>\n",
       "      <th>DESC</th>\n",
       "      <th>ENTRIES</th>\n",
       "      <th>PREV_DATE</th>\n",
       "      <th>PREV_ENTRIES</th>\n",
       "      <th>LATE_NIGHT_ENTRIES</th>\n",
       "    </tr>\n",
       "  </thead>\n",
       "  <tbody>\n",
       "    <tr>\n",
       "      <th>7</th>\n",
       "      <td>2019-03-31 04:00:00</td>\n",
       "      <td>A002</td>\n",
       "      <td>R051</td>\n",
       "      <td>02-00-00</td>\n",
       "      <td>59 ST</td>\n",
       "      <td>NQR456W</td>\n",
       "      <td>03/31/2019</td>\n",
       "      <td>04:00:00</td>\n",
       "      <td>REGULAR</td>\n",
       "      <td>6999983</td>\n",
       "      <td>03/30/2019</td>\n",
       "      <td>6,999,084</td>\n",
       "      <td>899</td>\n",
       "    </tr>\n",
       "    <tr>\n",
       "      <th>13</th>\n",
       "      <td>2019-04-01 04:00:00</td>\n",
       "      <td>A002</td>\n",
       "      <td>R051</td>\n",
       "      <td>02-00-00</td>\n",
       "      <td>59 ST</td>\n",
       "      <td>NQR456W</td>\n",
       "      <td>04/01/2019</td>\n",
       "      <td>04:00:00</td>\n",
       "      <td>REGULAR</td>\n",
       "      <td>7000539</td>\n",
       "      <td>03/31/2019</td>\n",
       "      <td>6,999,983</td>\n",
       "      <td>556</td>\n",
       "    </tr>\n",
       "  </tbody>\n",
       "</table>\n",
       "</div>"
      ],
      "text/plain": [
       "             DATE_TIME   C/A  UNIT       SCP STATION LINENAME        DATE  \\\n",
       "7  2019-03-31 04:00:00  A002  R051  02-00-00   59 ST  NQR456W  03/31/2019   \n",
       "13 2019-04-01 04:00:00  A002  R051  02-00-00   59 ST  NQR456W  04/01/2019   \n",
       "\n",
       "        TIME     DESC  ENTRIES   PREV_DATE  PREV_ENTRIES  LATE_NIGHT_ENTRIES  \n",
       "7   04:00:00  REGULAR  6999983  03/30/2019     6,999,084                 899  \n",
       "13  04:00:00  REGULAR  7000539  03/31/2019     6,999,983                 556  "
      ]
     },
     "execution_count": 17,
     "metadata": {},
     "output_type": "execute_result"
    }
   ],
   "source": [
    "# Drop row with the March 31, 2019 data, used it to calculate the previous entries, no longer neeeded. \n",
    "late_night_entries_df.dropna(subset=[\"PREV_DATE\"], axis=0, inplace=True)\n",
    "late_night_entries_df.head(2)\n"
   ]
  },
  {
   "cell_type": "code",
   "execution_count": 18,
   "metadata": {},
   "outputs": [
    {
     "name": "stdout",
     "output_type": "stream",
     "text": [
      "<class 'pandas.core.frame.DataFrame'>\n",
      "RangeIndex: 22142 entries, 0 to 22141\n",
      "Data columns (total 4 columns):\n",
      " #   Column              Non-Null Count  Dtype         \n",
      "---  ------              --------------  -----         \n",
      " 0   STATION             22142 non-null  object        \n",
      " 1   DATE_TIME           22142 non-null  datetime64[ns]\n",
      " 2   LINENAME            22142 non-null  object        \n",
      " 3   LATE_NIGHT_ENTRIES  22142 non-null  float64       \n",
      "dtypes: datetime64[ns](1), float64(1), object(2)\n",
      "memory usage: 692.1+ KB\n"
     ]
    }
   ],
   "source": [
    "# Add up all turnstiles by station and reset index \n",
    "late_night_entries_df = (late_night_entries_df\n",
    "                         .groupby(['STATION', 'DATE_TIME', 'LINENAME'])\n",
    "                         [['LATE_NIGHT_ENTRIES']]\n",
    "                         .sum()).reset_index()\n",
    "late_night_entries_df.info()"
   ]
  },
  {
   "cell_type": "code",
   "execution_count": 19,
   "metadata": {},
   "outputs": [
    {
     "data": {
      "text/html": [
       "<div>\n",
       "<style scoped>\n",
       "    .dataframe tbody tr th:only-of-type {\n",
       "        vertical-align: middle;\n",
       "    }\n",
       "\n",
       "    .dataframe tbody tr th {\n",
       "        vertical-align: top;\n",
       "    }\n",
       "\n",
       "    .dataframe thead th {\n",
       "        text-align: right;\n",
       "    }\n",
       "</style>\n",
       "<table border=\"1\" class=\"dataframe\">\n",
       "  <thead>\n",
       "    <tr style=\"text-align: right;\">\n",
       "      <th></th>\n",
       "      <th>STATION</th>\n",
       "      <th>DATE_TIME</th>\n",
       "      <th>LINENAME</th>\n",
       "      <th>LATE_NIGHT_ENTRIES</th>\n",
       "      <th>DAY_OF_WEEK</th>\n",
       "    </tr>\n",
       "  </thead>\n",
       "  <tbody>\n",
       "    <tr>\n",
       "      <th>0</th>\n",
       "      <td>1 AV</td>\n",
       "      <td>2019-03-30 04:00:00</td>\n",
       "      <td>L</td>\n",
       "      <td>1,618,348</td>\n",
       "      <td>5</td>\n",
       "    </tr>\n",
       "    <tr>\n",
       "      <th>1</th>\n",
       "      <td>1 AV</td>\n",
       "      <td>2019-03-31 04:00:00</td>\n",
       "      <td>L</td>\n",
       "      <td>15,402</td>\n",
       "      <td>6</td>\n",
       "    </tr>\n",
       "  </tbody>\n",
       "</table>\n",
       "</div>"
      ],
      "text/plain": [
       "  STATION           DATE_TIME LINENAME  LATE_NIGHT_ENTRIES  DAY_OF_WEEK\n",
       "0    1 AV 2019-03-30 04:00:00        L           1,618,348            5\n",
       "1    1 AV 2019-03-31 04:00:00        L              15,402            6"
      ]
     },
     "execution_count": 19,
     "metadata": {},
     "output_type": "execute_result"
    }
   ],
   "source": [
    "# Add column DAY_OF_WEEK to display day of week (Monday = 0, Sunday = 6)\n",
    "late_night_entries_df['DAY_OF_WEEK'] = pd.to_datetime(late_night_entries_df['DATE_TIME']).dt.dayofweek\n",
    "late_night_entries_df.head(2)\n"
   ]
  },
  {
   "cell_type": "markdown",
   "metadata": {},
   "source": [
    "## 4. Calculate rolling mean of late night entries"
   ]
  },
  {
   "cell_type": "code",
   "execution_count": 20,
   "metadata": {},
   "outputs": [
    {
     "data": {
      "text/html": [
       "<div>\n",
       "<style scoped>\n",
       "    .dataframe tbody tr th:only-of-type {\n",
       "        vertical-align: middle;\n",
       "    }\n",
       "\n",
       "    .dataframe tbody tr th {\n",
       "        vertical-align: top;\n",
       "    }\n",
       "\n",
       "    .dataframe thead th {\n",
       "        text-align: right;\n",
       "    }\n",
       "</style>\n",
       "<table border=\"1\" class=\"dataframe\">\n",
       "  <thead>\n",
       "    <tr style=\"text-align: right;\">\n",
       "      <th></th>\n",
       "      <th>STATION</th>\n",
       "      <th>DATE_TIME</th>\n",
       "      <th>LINENAME</th>\n",
       "      <th>LATE_NIGHT_ENTRIES</th>\n",
       "      <th>DAY_OF_WEEK</th>\n",
       "    </tr>\n",
       "  </thead>\n",
       "  <tbody>\n",
       "    <tr>\n",
       "      <th>0</th>\n",
       "      <td>1 AV</td>\n",
       "      <td>2019-03-30 04:00:00</td>\n",
       "      <td>L</td>\n",
       "      <td>1,618,348</td>\n",
       "      <td>5</td>\n",
       "    </tr>\n",
       "    <tr>\n",
       "      <th>1</th>\n",
       "      <td>1 AV</td>\n",
       "      <td>2019-03-31 04:00:00</td>\n",
       "      <td>L</td>\n",
       "      <td>15,402</td>\n",
       "      <td>6</td>\n",
       "    </tr>\n",
       "  </tbody>\n",
       "</table>\n",
       "</div>"
      ],
      "text/plain": [
       "  STATION           DATE_TIME LINENAME  LATE_NIGHT_ENTRIES  DAY_OF_WEEK\n",
       "0    1 AV 2019-03-30 04:00:00        L           1,618,348            5\n",
       "1    1 AV 2019-03-31 04:00:00        L              15,402            6"
      ]
     },
     "execution_count": 20,
     "metadata": {},
     "output_type": "execute_result"
    }
   ],
   "source": [
    "rolling_mean_df = late_night_entries_df.copy()\n",
    "rolling_mean_df.head(2)"
   ]
  },
  {
   "cell_type": "code",
   "execution_count": 21,
   "metadata": {},
   "outputs": [
    {
     "data": {
      "text/html": [
       "<div>\n",
       "<style scoped>\n",
       "    .dataframe tbody tr th:only-of-type {\n",
       "        vertical-align: middle;\n",
       "    }\n",
       "\n",
       "    .dataframe tbody tr th {\n",
       "        vertical-align: top;\n",
       "    }\n",
       "\n",
       "    .dataframe thead th {\n",
       "        text-align: right;\n",
       "    }\n",
       "</style>\n",
       "<table border=\"1\" class=\"dataframe\">\n",
       "  <thead>\n",
       "    <tr style=\"text-align: right;\">\n",
       "      <th></th>\n",
       "      <th>STATION</th>\n",
       "      <th>DATE_TIME</th>\n",
       "      <th>LATE_NIGHT_ENTRIES</th>\n",
       "      <th>ROLLING_MEAN</th>\n",
       "      <th>DAY_OF_WEEK</th>\n",
       "    </tr>\n",
       "  </thead>\n",
       "  <tbody>\n",
       "    <tr>\n",
       "      <th>0</th>\n",
       "      <td>1 AV</td>\n",
       "      <td>2019-03-30 04:00:00</td>\n",
       "      <td>1,618,348</td>\n",
       "      <td>1,618,348</td>\n",
       "      <td>5</td>\n",
       "    </tr>\n",
       "    <tr>\n",
       "      <th>1</th>\n",
       "      <td>1 AV</td>\n",
       "      <td>2019-03-31 04:00:00</td>\n",
       "      <td>15,402</td>\n",
       "      <td>816,875</td>\n",
       "      <td>6</td>\n",
       "    </tr>\n",
       "  </tbody>\n",
       "</table>\n",
       "</div>"
      ],
      "text/plain": [
       "  STATION           DATE_TIME  LATE_NIGHT_ENTRIES  ROLLING_MEAN  DAY_OF_WEEK\n",
       "0    1 AV 2019-03-30 04:00:00           1,618,348     1,618,348            5\n",
       "1    1 AV 2019-03-31 04:00:00              15,402       816,875            6"
      ]
     },
     "execution_count": 21,
     "metadata": {},
     "output_type": "execute_result"
    }
   ],
   "source": [
    "# Add column ROLLING_MEAN to capture the weekly rolling mean for each station \n",
    "rolling_mean_df['ROLLING_MEAN'] = (rolling_mean_df\n",
    "                        .groupby('STATION')['LATE_NIGHT_ENTRIES']\n",
    "                        .transform(lambda x: x.rolling(7,1).mean()))\n",
    "rolling_mean_df[['STATION','DATE_TIME','LATE_NIGHT_ENTRIES','ROLLING_MEAN','DAY_OF_WEEK']].head(2) \n",
    "# rolling_mean_df"
   ]
  },
  {
   "cell_type": "code",
   "execution_count": 23,
   "metadata": {},
   "outputs": [
    {
     "data": {
      "text/html": [
       "<div>\n",
       "<style scoped>\n",
       "    .dataframe tbody tr th:only-of-type {\n",
       "        vertical-align: middle;\n",
       "    }\n",
       "\n",
       "    .dataframe tbody tr th {\n",
       "        vertical-align: top;\n",
       "    }\n",
       "\n",
       "    .dataframe thead th {\n",
       "        text-align: right;\n",
       "    }\n",
       "</style>\n",
       "<table border=\"1\" class=\"dataframe\">\n",
       "  <thead>\n",
       "    <tr style=\"text-align: right;\">\n",
       "      <th></th>\n",
       "      <th>STATION</th>\n",
       "      <th>DATE_TIME</th>\n",
       "      <th>LINENAME</th>\n",
       "      <th>LATE_NIGHT_ENTRIES</th>\n",
       "      <th>DAY_OF_WEEK</th>\n",
       "      <th>ROLLING_MEAN</th>\n",
       "    </tr>\n",
       "  </thead>\n",
       "  <tbody>\n",
       "    <tr>\n",
       "      <th>1</th>\n",
       "      <td>1 AV</td>\n",
       "      <td>2019-03-31 04:00:00</td>\n",
       "      <td>L</td>\n",
       "      <td>15,402</td>\n",
       "      <td>6</td>\n",
       "      <td>816,875</td>\n",
       "    </tr>\n",
       "    <tr>\n",
       "      <th>8</th>\n",
       "      <td>1 AV</td>\n",
       "      <td>2019-04-07 04:00:00</td>\n",
       "      <td>L</td>\n",
       "      <td>16,725</td>\n",
       "      <td>6</td>\n",
       "      <td>254,088</td>\n",
       "    </tr>\n",
       "  </tbody>\n",
       "</table>\n",
       "</div>"
      ],
      "text/plain": [
       "  STATION           DATE_TIME LINENAME  LATE_NIGHT_ENTRIES  DAY_OF_WEEK  \\\n",
       "1    1 AV 2019-03-31 04:00:00        L              15,402            6   \n",
       "8    1 AV 2019-04-07 04:00:00        L              16,725            6   \n",
       "\n",
       "   ROLLING_MEAN  \n",
       "1       816,875  \n",
       "8       254,088  "
      ]
     },
     "execution_count": 23,
     "metadata": {},
     "output_type": "execute_result"
    }
   ],
   "source": [
    "# Mask selects the last day of each station's rolling mean; Sunday=6\n",
    "last_rolling_day_mask = (rolling_mean_df['DAY_OF_WEEK'] == 6)\n",
    "rolling_mean_df = rolling_mean_df[last_rolling_day_mask]\n",
    "rolling_mean_df.head(2)"
   ]
  },
  {
   "cell_type": "code",
   "execution_count": 24,
   "metadata": {},
   "outputs": [
    {
     "data": {
      "text/plain": [
       "array([6])"
      ]
     },
     "execution_count": 24,
     "metadata": {},
     "output_type": "execute_result"
    }
   ],
   "source": [
    "# Comfirm df only has Sunday\n",
    "rolling_mean_df.DAY_OF_WEEK.unique()\n"
   ]
  },
  {
   "cell_type": "code",
   "execution_count": 25,
   "metadata": {},
   "outputs": [
    {
     "data": {
      "text/plain": [
       "213"
      ]
     },
     "execution_count": 25,
     "metadata": {},
     "output_type": "execute_result"
    }
   ],
   "source": [
    "# How many stations? 213; started with 378 \n",
    "# Some stations were ommited during clean up. \n",
    "# Perhaps some stations don't have late night service or were closed for repair. \n",
    "len(rolling_mean_df.STATION.unique())\n"
   ]
  },
  {
   "cell_type": "code",
   "execution_count": 26,
   "metadata": {},
   "outputs": [
    {
     "name": "stdout",
     "output_type": "stream",
     "text": [
      "<class 'pandas.core.frame.DataFrame'>\n",
      "RangeIndex: 3167 entries, 0 to 3166\n",
      "Data columns (total 6 columns):\n",
      " #   Column              Non-Null Count  Dtype         \n",
      "---  ------              --------------  -----         \n",
      " 0   STATION             3167 non-null   object        \n",
      " 1   DATE_TIME           3167 non-null   datetime64[ns]\n",
      " 2   LINENAME            3167 non-null   object        \n",
      " 3   LATE_NIGHT_ENTRIES  3167 non-null   float64       \n",
      " 4   DAY_OF_WEEK         3167 non-null   int64         \n",
      " 5   ROLLING_MEAN        3167 non-null   float64       \n",
      "dtypes: datetime64[ns](1), float64(2), int64(1), object(2)\n",
      "memory usage: 148.6+ KB\n"
     ]
    }
   ],
   "source": [
    "# Sort by ROLLING_MEAN and reset index \n",
    "rolling_mean_df = rolling_mean_df.sort_values('ROLLING_MEAN', ascending=False).reset_index(drop=True)\n",
    "rolling_mean_df.info()\n"
   ]
  },
  {
   "cell_type": "code",
   "execution_count": 27,
   "metadata": {},
   "outputs": [],
   "source": [
    "rolling_mean_group = (rolling_mean_df\n",
    "                      .groupby('STATION')[['ROLLING_MEAN']].mean())\n"
   ]
  },
  {
   "cell_type": "code",
   "execution_count": 28,
   "metadata": {},
   "outputs": [],
   "source": [
    "rolling_mean_group.reset_index(inplace=True)"
   ]
  },
  {
   "cell_type": "code",
   "execution_count": 29,
   "metadata": {},
   "outputs": [
    {
     "data": {
      "text/html": [
       "<div>\n",
       "<style scoped>\n",
       "    .dataframe tbody tr th:only-of-type {\n",
       "        vertical-align: middle;\n",
       "    }\n",
       "\n",
       "    .dataframe tbody tr th {\n",
       "        vertical-align: top;\n",
       "    }\n",
       "\n",
       "    .dataframe thead th {\n",
       "        text-align: right;\n",
       "    }\n",
       "</style>\n",
       "<table border=\"1\" class=\"dataframe\">\n",
       "  <thead>\n",
       "    <tr style=\"text-align: right;\">\n",
       "      <th></th>\n",
       "      <th>STATION</th>\n",
       "      <th>ROLLING_MEAN</th>\n",
       "    </tr>\n",
       "  </thead>\n",
       "  <tbody>\n",
       "    <tr>\n",
       "      <th>0</th>\n",
       "      <td>1 AV</td>\n",
       "      <td>328,632</td>\n",
       "    </tr>\n",
       "    <tr>\n",
       "      <th>1</th>\n",
       "      <td>103 ST-CORONA</td>\n",
       "      <td>112,645</td>\n",
       "    </tr>\n",
       "    <tr>\n",
       "      <th>2</th>\n",
       "      <td>104 ST</td>\n",
       "      <td>216,736</td>\n",
       "    </tr>\n",
       "    <tr>\n",
       "      <th>3</th>\n",
       "      <td>110 ST</td>\n",
       "      <td>140,304</td>\n",
       "    </tr>\n",
       "    <tr>\n",
       "      <th>4</th>\n",
       "      <td>111 ST</td>\n",
       "      <td>80,648</td>\n",
       "    </tr>\n",
       "    <tr>\n",
       "      <th>5</th>\n",
       "      <td>121 ST</td>\n",
       "      <td>443,800</td>\n",
       "    </tr>\n",
       "    <tr>\n",
       "      <th>6</th>\n",
       "      <td>125 ST</td>\n",
       "      <td>219,008</td>\n",
       "    </tr>\n",
       "    <tr>\n",
       "      <th>7</th>\n",
       "      <td>135 ST</td>\n",
       "      <td>209,658</td>\n",
       "    </tr>\n",
       "    <tr>\n",
       "      <th>8</th>\n",
       "      <td>138/GRAND CONC</td>\n",
       "      <td>102,414</td>\n",
       "    </tr>\n",
       "    <tr>\n",
       "      <th>9</th>\n",
       "      <td>14 ST</td>\n",
       "      <td>1,162,569</td>\n",
       "    </tr>\n",
       "  </tbody>\n",
       "</table>\n",
       "</div>"
      ],
      "text/plain": [
       "          STATION  ROLLING_MEAN\n",
       "0            1 AV       328,632\n",
       "1   103 ST-CORONA       112,645\n",
       "2          104 ST       216,736\n",
       "3          110 ST       140,304\n",
       "4          111 ST        80,648\n",
       "5          121 ST       443,800\n",
       "6          125 ST       219,008\n",
       "7          135 ST       209,658\n",
       "8  138/GRAND CONC       102,414\n",
       "9           14 ST     1,162,569"
      ]
     },
     "execution_count": 29,
     "metadata": {},
     "output_type": "execute_result"
    }
   ],
   "source": [
    "# Select top stations with the highest rolling mean on Sunday\n",
    "rolling_mean_group.sort_values('ROLLING_MEAN', ascending=False)\n",
    "rolling_mean_group_top = rolling_mean_group.loc[:9]\n",
    "rolling_mean_group_top"
   ]
  },
  {
   "cell_type": "markdown",
   "metadata": {},
   "source": [
    "## 5. Plot top stations by highest late night rolling mean"
   ]
  },
  {
   "cell_type": "markdown",
   "metadata": {},
   "source": [
    "### Which stations outside of Manhattan have high late night entries? "
   ]
  },
  {
   "cell_type": "code",
   "execution_count": 30,
   "metadata": {},
   "outputs": [
    {
     "data": {
      "image/png": "[encoded data removed]",
      "text/plain": [
       "<Figure size 1080x576 with 1 Axes>"
      ]
     },
     "metadata": {
      "needs_background": "light"
     },
     "output_type": "display_data"
    }
   ],
   "source": [
    "# Plot top stations: Rolling mean number of entres vs stations\n",
    "\n",
    "plt.figure(figsize = (15,8))\n",
    "ax = sns.barplot(x = 'STATION', y = 'ROLLING_MEAN', data = rolling_mean_group_top, color='green')\n",
    "ax.set_xticklabels(ax.get_xticklabels(),rotation = 90)\n",
    "ax.set(title='Top Stations: Rolling Mean Number of Entries vs. Stations')\n",
    "ax.set(xlabel=('Station'))\n",
    "ax.set(ylabel=('Rolling mean number of entries on last reporting day (Sunday)'))\n",
    "ax.yaxis.set_major_formatter(mpl.ticker.StrMethodFormatter('{x:,.0f}'))\n",
    "plt.grid();\n"
   ]
  },
  {
   "cell_type": "markdown",
   "metadata": {},
   "source": [
    "One station outside of Manhattan is both in Queens and on the 7 train. \n",
    "Let's look at the stations along the 7 line in Queens. "
   ]
  },
  {
   "cell_type": "markdown",
   "metadata": {},
   "source": [
    "## 6. Plot 7 train stations in Queens "
   ]
  },
  {
   "cell_type": "code",
   "execution_count": 31,
   "metadata": {},
   "outputs": [
    {
     "data": {
      "text/html": [
       "<div>\n",
       "<style scoped>\n",
       "    .dataframe tbody tr th:only-of-type {\n",
       "        vertical-align: middle;\n",
       "    }\n",
       "\n",
       "    .dataframe tbody tr th {\n",
       "        vertical-align: top;\n",
       "    }\n",
       "\n",
       "    .dataframe thead th {\n",
       "        text-align: right;\n",
       "    }\n",
       "</style>\n",
       "<table border=\"1\" class=\"dataframe\">\n",
       "  <thead>\n",
       "    <tr style=\"text-align: right;\">\n",
       "      <th></th>\n",
       "      <th>STATION</th>\n",
       "      <th>DATE_TIME</th>\n",
       "      <th>LINENAME</th>\n",
       "      <th>LATE_NIGHT_ENTRIES</th>\n",
       "      <th>DAY_OF_WEEK</th>\n",
       "      <th>ROLLING_MEAN</th>\n",
       "    </tr>\n",
       "  </thead>\n",
       "  <tbody>\n",
       "    <tr>\n",
       "      <th>0</th>\n",
       "      <td>34 ST-PENN STA</td>\n",
       "      <td>2019-03-31 04:00:00</td>\n",
       "      <td>123</td>\n",
       "      <td>17,001</td>\n",
       "      <td>6</td>\n",
       "      <td>6,198,087</td>\n",
       "    </tr>\n",
       "    <tr>\n",
       "      <th>1</th>\n",
       "      <td>34 ST-HERALD SQ</td>\n",
       "      <td>2019-03-31 04:00:00</td>\n",
       "      <td>BDFMNQRW</td>\n",
       "      <td>78,790</td>\n",
       "      <td>6</td>\n",
       "      <td>5,511,591</td>\n",
       "    </tr>\n",
       "  </tbody>\n",
       "</table>\n",
       "</div>"
      ],
      "text/plain": [
       "           STATION           DATE_TIME  LINENAME  LATE_NIGHT_ENTRIES  \\\n",
       "0   34 ST-PENN STA 2019-03-31 04:00:00       123              17,001   \n",
       "1  34 ST-HERALD SQ 2019-03-31 04:00:00  BDFMNQRW              78,790   \n",
       "\n",
       "   DAY_OF_WEEK  ROLLING_MEAN  \n",
       "0            6     6,198,087  \n",
       "1            6     5,511,591  "
      ]
     },
     "execution_count": 31,
     "metadata": {},
     "output_type": "execute_result"
    }
   ],
   "source": [
    "seven_line_df = rolling_mean_df.copy() # Using df with rolling mean\n",
    "seven_line_df.head(2)"
   ]
  },
  {
   "cell_type": "code",
   "execution_count": 32,
   "metadata": {},
   "outputs": [
    {
     "data": {
      "text/html": [
       "<div>\n",
       "<style scoped>\n",
       "    .dataframe tbody tr th:only-of-type {\n",
       "        vertical-align: middle;\n",
       "    }\n",
       "\n",
       "    .dataframe tbody tr th {\n",
       "        vertical-align: top;\n",
       "    }\n",
       "\n",
       "    .dataframe thead th {\n",
       "        text-align: right;\n",
       "    }\n",
       "</style>\n",
       "<table border=\"1\" class=\"dataframe\">\n",
       "  <thead>\n",
       "    <tr style=\"text-align: right;\">\n",
       "      <th></th>\n",
       "      <th>STATION</th>\n",
       "      <th>DATE_TIME</th>\n",
       "      <th>LINENAME</th>\n",
       "      <th>LATE_NIGHT_ENTRIES</th>\n",
       "      <th>DAY_OF_WEEK</th>\n",
       "      <th>ROLLING_MEAN</th>\n",
       "    </tr>\n",
       "  </thead>\n",
       "  <tbody>\n",
       "    <tr>\n",
       "      <th>5</th>\n",
       "      <td>42 ST-PORT AUTH</td>\n",
       "      <td>2019-03-31 04:00:00</td>\n",
       "      <td>ACENQRS1237W</td>\n",
       "      <td>36,598</td>\n",
       "      <td>6</td>\n",
       "      <td>3,474,060</td>\n",
       "    </tr>\n",
       "    <tr>\n",
       "      <th>18</th>\n",
       "      <td>GRD CNTRL-42 ST</td>\n",
       "      <td>2019-03-31 04:00:00</td>\n",
       "      <td>4567S</td>\n",
       "      <td>38,103</td>\n",
       "      <td>6</td>\n",
       "      <td>2,829,847</td>\n",
       "    </tr>\n",
       "    <tr>\n",
       "      <th>33</th>\n",
       "      <td>34 ST-HUDSON YD</td>\n",
       "      <td>2019-03-31 04:00:00</td>\n",
       "      <td>7</td>\n",
       "      <td>19,111</td>\n",
       "      <td>6</td>\n",
       "      <td>2,674,048</td>\n",
       "    </tr>\n",
       "    <tr>\n",
       "      <th>39</th>\n",
       "      <td>42 ST-BRYANT PK</td>\n",
       "      <td>2019-03-31 04:00:00</td>\n",
       "      <td>BDFM7</td>\n",
       "      <td>15,676</td>\n",
       "      <td>6</td>\n",
       "      <td>2,400,286</td>\n",
       "    </tr>\n",
       "    <tr>\n",
       "      <th>50</th>\n",
       "      <td>FLUSHING-MAIN</td>\n",
       "      <td>2019-03-31 04:00:00</td>\n",
       "      <td>7</td>\n",
       "      <td>4</td>\n",
       "      <td>6</td>\n",
       "      <td>2,000,721</td>\n",
       "    </tr>\n",
       "    <tr>\n",
       "      <th>89</th>\n",
       "      <td>5 AVE</td>\n",
       "      <td>2019-03-31 04:00:00</td>\n",
       "      <td>7BDFM</td>\n",
       "      <td>5,583</td>\n",
       "      <td>6</td>\n",
       "      <td>1,651,434</td>\n",
       "    </tr>\n",
       "    <tr>\n",
       "      <th>97</th>\n",
       "      <td>TIMES SQ-42 ST</td>\n",
       "      <td>2019-03-31 04:00:00</td>\n",
       "      <td>1237ACENQRS</td>\n",
       "      <td>17,042</td>\n",
       "      <td>6</td>\n",
       "      <td>1,538,861</td>\n",
       "    </tr>\n",
       "    <tr>\n",
       "      <th>101</th>\n",
       "      <td>42 ST-BRYANT PK</td>\n",
       "      <td>2019-05-19 04:00:00</td>\n",
       "      <td>BDFM7</td>\n",
       "      <td>19,682</td>\n",
       "      <td>6</td>\n",
       "      <td>1,478,193</td>\n",
       "    </tr>\n",
       "    <tr>\n",
       "      <th>116</th>\n",
       "      <td>COURT SQ</td>\n",
       "      <td>2019-03-31 04:00:00</td>\n",
       "      <td>7</td>\n",
       "      <td>4,172</td>\n",
       "      <td>6</td>\n",
       "      <td>1,312,422</td>\n",
       "    </tr>\n",
       "    <tr>\n",
       "      <th>138</th>\n",
       "      <td>TIMES SQ-42 ST</td>\n",
       "      <td>2019-03-31 04:00:00</td>\n",
       "      <td>1237ACENQRSW</td>\n",
       "      <td>45,572</td>\n",
       "      <td>6</td>\n",
       "      <td>1,240,203</td>\n",
       "    </tr>\n",
       "  </tbody>\n",
       "</table>\n",
       "</div>"
      ],
      "text/plain": [
       "             STATION           DATE_TIME      LINENAME  LATE_NIGHT_ENTRIES  \\\n",
       "5    42 ST-PORT AUTH 2019-03-31 04:00:00  ACENQRS1237W              36,598   \n",
       "18   GRD CNTRL-42 ST 2019-03-31 04:00:00         4567S              38,103   \n",
       "33   34 ST-HUDSON YD 2019-03-31 04:00:00             7              19,111   \n",
       "39   42 ST-BRYANT PK 2019-03-31 04:00:00         BDFM7              15,676   \n",
       "50     FLUSHING-MAIN 2019-03-31 04:00:00             7                   4   \n",
       "89             5 AVE 2019-03-31 04:00:00         7BDFM               5,583   \n",
       "97    TIMES SQ-42 ST 2019-03-31 04:00:00   1237ACENQRS              17,042   \n",
       "101  42 ST-BRYANT PK 2019-05-19 04:00:00         BDFM7              19,682   \n",
       "116         COURT SQ 2019-03-31 04:00:00             7               4,172   \n",
       "138   TIMES SQ-42 ST 2019-03-31 04:00:00  1237ACENQRSW              45,572   \n",
       "\n",
       "     DAY_OF_WEEK  ROLLING_MEAN  \n",
       "5              6     3,474,060  \n",
       "18             6     2,829,847  \n",
       "33             6     2,674,048  \n",
       "39             6     2,400,286  \n",
       "50             6     2,000,721  \n",
       "89             6     1,651,434  \n",
       "97             6     1,538,861  \n",
       "101            6     1,478,193  \n",
       "116            6     1,312,422  \n",
       "138            6     1,240,203  "
      ]
     },
     "execution_count": 32,
     "metadata": {},
     "output_type": "execute_result"
    }
   ],
   "source": [
    "# Looking for linename of interest: 7 line \n",
    "seven_line_df = seven_line_df[seven_line_df['LINENAME'].str.contains('7', na=False)] \n",
    "seven_line_df.head(10)\n",
    "# The 7 train shares stations with other train lines. Will omit multi-train stations in this analysis. \n",
    "# Line name as recorded in dataset: 7\n"
   ]
  },
  {
   "cell_type": "code",
   "execution_count": 33,
   "metadata": {},
   "outputs": [
    {
     "data": {
      "text/html": [
       "<div>\n",
       "<style scoped>\n",
       "    .dataframe tbody tr th:only-of-type {\n",
       "        vertical-align: middle;\n",
       "    }\n",
       "\n",
       "    .dataframe tbody tr th {\n",
       "        vertical-align: top;\n",
       "    }\n",
       "\n",
       "    .dataframe thead th {\n",
       "        text-align: right;\n",
       "    }\n",
       "</style>\n",
       "<table border=\"1\" class=\"dataframe\">\n",
       "  <thead>\n",
       "    <tr style=\"text-align: right;\">\n",
       "      <th></th>\n",
       "      <th>STATION</th>\n",
       "      <th>DATE_TIME</th>\n",
       "      <th>LINENAME</th>\n",
       "      <th>LATE_NIGHT_ENTRIES</th>\n",
       "      <th>DAY_OF_WEEK</th>\n",
       "      <th>ROLLING_MEAN</th>\n",
       "    </tr>\n",
       "  </thead>\n",
       "  <tbody>\n",
       "    <tr>\n",
       "      <th>33</th>\n",
       "      <td>34 ST-HUDSON YD</td>\n",
       "      <td>2019-03-31 04:00:00</td>\n",
       "      <td>7</td>\n",
       "      <td>19,111</td>\n",
       "      <td>6</td>\n",
       "      <td>2,674,048</td>\n",
       "    </tr>\n",
       "    <tr>\n",
       "      <th>50</th>\n",
       "      <td>FLUSHING-MAIN</td>\n",
       "      <td>2019-03-31 04:00:00</td>\n",
       "      <td>7</td>\n",
       "      <td>4</td>\n",
       "      <td>6</td>\n",
       "      <td>2,000,721</td>\n",
       "    </tr>\n",
       "  </tbody>\n",
       "</table>\n",
       "</div>"
      ],
      "text/plain": [
       "            STATION           DATE_TIME LINENAME  LATE_NIGHT_ENTRIES  \\\n",
       "33  34 ST-HUDSON YD 2019-03-31 04:00:00        7              19,111   \n",
       "50    FLUSHING-MAIN 2019-03-31 04:00:00        7                   4   \n",
       "\n",
       "    DAY_OF_WEEK  ROLLING_MEAN  \n",
       "33            6     2,674,048  \n",
       "50            6     2,000,721  "
      ]
     },
     "execution_count": 33,
     "metadata": {},
     "output_type": "execute_result"
    }
   ],
   "source": [
    "# Mask selects the 7 train only stations\n",
    "seven_mask = (seven_line_df['LINENAME'] == '7')\n",
    "seven_line_df = seven_line_df[seven_mask]\n",
    "seven_line_df.head(2)"
   ]
  },
  {
   "cell_type": "code",
   "execution_count": 34,
   "metadata": {},
   "outputs": [
    {
     "data": {
      "text/plain": [
       "array(['7'], dtype=object)"
      ]
     },
     "execution_count": 34,
     "metadata": {},
     "output_type": "execute_result"
    }
   ],
   "source": [
    "# Comfirm df has only 7 line data\n",
    "seven_line_df.LINENAME.unique()"
   ]
  },
  {
   "cell_type": "code",
   "execution_count": 35,
   "metadata": {},
   "outputs": [
    {
     "data": {
      "text/plain": [
       "12"
      ]
     },
     "execution_count": 35,
     "metadata": {},
     "output_type": "execute_result"
    }
   ],
   "source": [
    "# How many 7 train stations in this dataset? 12\n",
    "len(seven_line_df.STATION.unique())"
   ]
  },
  {
   "cell_type": "code",
   "execution_count": 36,
   "metadata": {},
   "outputs": [
    {
     "data": {
      "text/plain": [
       "array(['34 ST-HUDSON YD', 'FLUSHING-MAIN', 'COURT SQ', 'VERNON-JACKSON',\n",
       "       '46 ST BLISS ST', '90 ST-ELMHURST', '40 ST LOWERY ST',\n",
       "       '82 ST-JACKSON H', '33 ST-RAWSON ST', '103 ST-CORONA', '111 ST',\n",
       "       'JUNCTION BLVD'], dtype=object)"
      ]
     },
     "execution_count": 36,
     "metadata": {},
     "output_type": "execute_result"
    }
   ],
   "source": [
    "# How many stations in Queens? All but one, 34 ST-HUDSON YD.   \n",
    "seven_line_df.STATION.unique()"
   ]
  },
  {
   "cell_type": "code",
   "execution_count": 37,
   "metadata": {},
   "outputs": [
    {
     "data": {
      "text/html": [
       "<div>\n",
       "<style scoped>\n",
       "    .dataframe tbody tr th:only-of-type {\n",
       "        vertical-align: middle;\n",
       "    }\n",
       "\n",
       "    .dataframe tbody tr th {\n",
       "        vertical-align: top;\n",
       "    }\n",
       "\n",
       "    .dataframe thead th {\n",
       "        text-align: right;\n",
       "    }\n",
       "</style>\n",
       "<table border=\"1\" class=\"dataframe\">\n",
       "  <thead>\n",
       "    <tr style=\"text-align: right;\">\n",
       "      <th></th>\n",
       "      <th>STATION</th>\n",
       "      <th>DATE_TIME</th>\n",
       "      <th>LINENAME</th>\n",
       "      <th>LATE_NIGHT_ENTRIES</th>\n",
       "      <th>DAY_OF_WEEK</th>\n",
       "      <th>ROLLING_MEAN</th>\n",
       "    </tr>\n",
       "  </thead>\n",
       "  <tbody>\n",
       "    <tr>\n",
       "      <th>50</th>\n",
       "      <td>FLUSHING-MAIN</td>\n",
       "      <td>2019-03-31 04:00:00</td>\n",
       "      <td>7</td>\n",
       "      <td>4</td>\n",
       "      <td>6</td>\n",
       "      <td>2,000,721</td>\n",
       "    </tr>\n",
       "    <tr>\n",
       "      <th>116</th>\n",
       "      <td>COURT SQ</td>\n",
       "      <td>2019-03-31 04:00:00</td>\n",
       "      <td>7</td>\n",
       "      <td>4,172</td>\n",
       "      <td>6</td>\n",
       "      <td>1,312,422</td>\n",
       "    </tr>\n",
       "    <tr>\n",
       "      <th>148</th>\n",
       "      <td>VERNON-JACKSON</td>\n",
       "      <td>2019-03-31 04:00:00</td>\n",
       "      <td>7</td>\n",
       "      <td>10,591</td>\n",
       "      <td>6</td>\n",
       "      <td>1,208,780</td>\n",
       "    </tr>\n",
       "    <tr>\n",
       "      <th>158</th>\n",
       "      <td>46 ST BLISS ST</td>\n",
       "      <td>2019-03-31 04:00:00</td>\n",
       "      <td>7</td>\n",
       "      <td>8,797</td>\n",
       "      <td>6</td>\n",
       "      <td>1,158,996</td>\n",
       "    </tr>\n",
       "    <tr>\n",
       "      <th>421</th>\n",
       "      <td>90 ST-ELMHURST</td>\n",
       "      <td>2019-03-31 04:00:00</td>\n",
       "      <td>7</td>\n",
       "      <td>11,087</td>\n",
       "      <td>6</td>\n",
       "      <td>830,892</td>\n",
       "    </tr>\n",
       "  </tbody>\n",
       "</table>\n",
       "</div>"
      ],
      "text/plain": [
       "            STATION           DATE_TIME LINENAME  LATE_NIGHT_ENTRIES  \\\n",
       "50    FLUSHING-MAIN 2019-03-31 04:00:00        7                   4   \n",
       "116        COURT SQ 2019-03-31 04:00:00        7               4,172   \n",
       "148  VERNON-JACKSON 2019-03-31 04:00:00        7              10,591   \n",
       "158  46 ST BLISS ST 2019-03-31 04:00:00        7               8,797   \n",
       "421  90 ST-ELMHURST 2019-03-31 04:00:00        7              11,087   \n",
       "\n",
       "     DAY_OF_WEEK  ROLLING_MEAN  \n",
       "50             6     2,000,721  \n",
       "116            6     1,312,422  \n",
       "148            6     1,208,780  \n",
       "158            6     1,158,996  \n",
       "421            6       830,892  "
      ]
     },
     "execution_count": 37,
     "metadata": {},
     "output_type": "execute_result"
    }
   ],
   "source": [
    "# Mask selects only the Queens stations\n",
    "queens_mask = (seven_line_df['STATION'] != '34 ST-HUDSON YD')\n",
    "seven_line_df = seven_line_df[queens_mask]\n",
    "seven_line_df.head(5)"
   ]
  },
  {
   "cell_type": "markdown",
   "metadata": {},
   "source": [
    "### Which 7 train stations in Queens have high late night entries? "
   ]
  },
  {
   "cell_type": "code",
   "execution_count": 38,
   "metadata": {},
   "outputs": [
    {
     "data": {
      "image/png": "[encoded data removed]",
      "text/plain": [
       "<Figure size 1080x576 with 1 Axes>"
      ]
     },
     "metadata": {
      "needs_background": "light"
     },
     "output_type": "display_data"
    }
   ],
   "source": [
    "# Plot 7 line in Queens: Rolling average late night entries vs Queens 7 train stations\n",
    "\n",
    "plt.figure(figsize = (15,8))\n",
    "ax = sns.barplot(x = 'STATION', y = 'ROLLING_MEAN',data = seven_line_df.sort_values('ROLLING_MEAN'), color='purple')\n",
    "ax.set_xticklabels(ax.get_xticklabels(),rotation = 45)\n",
    "ax.set(title='Queens 7 Train: Rolling Average Late Night Entries vs. Stations')\n",
    "ax.set(xlabel=('Stations'))\n",
    "ax.set(ylabel=('Rolling average late night entries'))\n",
    "ax.yaxis.set_major_formatter(mpl.ticker.StrMethodFormatter('{x:,.0f}'))\n",
    "plt.grid();\n"
   ]
  },
  {
   "cell_type": "markdown",
   "metadata": {},
   "source": [
    "The range of people entering a station on the 7 train during late-night hours varies. \n",
    "One station has high late night entries.<br/>\n",
    "What days are the busiest at Flushing Station? \n",
    "\n"
   ]
  },
  {
   "cell_type": "markdown",
   "metadata": {},
   "source": [
    "## 7. Plot average late night entries at Flushing Station by day of week"
   ]
  },
  {
   "cell_type": "code",
   "execution_count": 39,
   "metadata": {},
   "outputs": [],
   "source": [
    "flushing_df = late_night_entries_df.copy() # Using df without rolling mean"
   ]
  },
  {
   "cell_type": "code",
   "execution_count": 40,
   "metadata": {},
   "outputs": [],
   "source": [
    "# Mask selects FLUSHING-MAIN\n",
    "flushing_mask = (flushing_df['STATION'] == 'FLUSHING-MAIN')\n",
    "flushing_df = flushing_df[flushing_mask]\n"
   ]
  },
  {
   "cell_type": "code",
   "execution_count": 41,
   "metadata": {},
   "outputs": [
    {
     "data": {
      "text/plain": [
       "array(['FLUSHING-MAIN'], dtype=object)"
      ]
     },
     "execution_count": 41,
     "metadata": {},
     "output_type": "execute_result"
    }
   ],
   "source": [
    "# Confirm df only has Flushing data\n",
    "flushing_df.STATION.unique()\n"
   ]
  },
  {
   "cell_type": "code",
   "execution_count": 42,
   "metadata": {},
   "outputs": [
    {
     "data": {
      "text/html": [
       "<div>\n",
       "<style scoped>\n",
       "    .dataframe tbody tr th:only-of-type {\n",
       "        vertical-align: middle;\n",
       "    }\n",
       "\n",
       "    .dataframe tbody tr th {\n",
       "        vertical-align: top;\n",
       "    }\n",
       "\n",
       "    .dataframe thead th {\n",
       "        text-align: right;\n",
       "    }\n",
       "</style>\n",
       "<table border=\"1\" class=\"dataframe\">\n",
       "  <thead>\n",
       "    <tr style=\"text-align: right;\">\n",
       "      <th></th>\n",
       "      <th>STATION</th>\n",
       "      <th>DATE_TIME</th>\n",
       "      <th>LINENAME</th>\n",
       "      <th>LATE_NIGHT_ENTRIES</th>\n",
       "      <th>DAY_OF_WEEK</th>\n",
       "    </tr>\n",
       "  </thead>\n",
       "  <tbody>\n",
       "    <tr>\n",
       "      <th>14305</th>\n",
       "      <td>FLUSHING-MAIN</td>\n",
       "      <td>2019-03-30 04:00:00</td>\n",
       "      <td>7</td>\n",
       "      <td>4,001,438</td>\n",
       "      <td>5</td>\n",
       "    </tr>\n",
       "    <tr>\n",
       "      <th>14306</th>\n",
       "      <td>FLUSHING-MAIN</td>\n",
       "      <td>2019-03-31 04:00:00</td>\n",
       "      <td>7</td>\n",
       "      <td>4</td>\n",
       "      <td>6</td>\n",
       "    </tr>\n",
       "  </tbody>\n",
       "</table>\n",
       "</div>"
      ],
      "text/plain": [
       "             STATION           DATE_TIME LINENAME  LATE_NIGHT_ENTRIES  \\\n",
       "14305  FLUSHING-MAIN 2019-03-30 04:00:00        7           4,001,438   \n",
       "14306  FLUSHING-MAIN 2019-03-31 04:00:00        7                   4   \n",
       "\n",
       "       DAY_OF_WEEK  \n",
       "14305            5  \n",
       "14306            6  "
      ]
     },
     "execution_count": 42,
     "metadata": {},
     "output_type": "execute_result"
    }
   ],
   "source": [
    "flushing_df.head(2)"
   ]
  },
  {
   "cell_type": "code",
   "execution_count": 43,
   "metadata": {},
   "outputs": [
    {
     "data": {
      "text/html": [
       "<div>\n",
       "<style scoped>\n",
       "    .dataframe tbody tr th:only-of-type {\n",
       "        vertical-align: middle;\n",
       "    }\n",
       "\n",
       "    .dataframe tbody tr th {\n",
       "        vertical-align: top;\n",
       "    }\n",
       "\n",
       "    .dataframe thead th {\n",
       "        text-align: right;\n",
       "    }\n",
       "</style>\n",
       "<table border=\"1\" class=\"dataframe\">\n",
       "  <thead>\n",
       "    <tr style=\"text-align: right;\">\n",
       "      <th></th>\n",
       "      <th>STATION</th>\n",
       "      <th>DATE_TIME</th>\n",
       "      <th>LINENAME</th>\n",
       "      <th>LATE_NIGHT_ENTRIES</th>\n",
       "      <th>DAY_OF_WEEK</th>\n",
       "      <th>WEEK_DAY_MEAN</th>\n",
       "    </tr>\n",
       "  </thead>\n",
       "  <tbody>\n",
       "    <tr>\n",
       "      <th>14305</th>\n",
       "      <td>FLUSHING-MAIN</td>\n",
       "      <td>2019-03-30 04:00:00</td>\n",
       "      <td>7</td>\n",
       "      <td>4,001,438</td>\n",
       "      <td>5</td>\n",
       "      <td>4,168,255</td>\n",
       "    </tr>\n",
       "    <tr>\n",
       "      <th>14306</th>\n",
       "      <td>FLUSHING-MAIN</td>\n",
       "      <td>2019-03-31 04:00:00</td>\n",
       "      <td>7</td>\n",
       "      <td>4</td>\n",
       "      <td>6</td>\n",
       "      <td>27,901</td>\n",
       "    </tr>\n",
       "    <tr>\n",
       "      <th>14307</th>\n",
       "      <td>FLUSHING-MAIN</td>\n",
       "      <td>2019-04-01 04:00:00</td>\n",
       "      <td>7</td>\n",
       "      <td>37</td>\n",
       "      <td>0</td>\n",
       "      <td>20,948</td>\n",
       "    </tr>\n",
       "    <tr>\n",
       "      <th>14308</th>\n",
       "      <td>FLUSHING-MAIN</td>\n",
       "      <td>2019-04-02 04:00:00</td>\n",
       "      <td>7</td>\n",
       "      <td>57,655</td>\n",
       "      <td>1</td>\n",
       "      <td>55,069</td>\n",
       "    </tr>\n",
       "    <tr>\n",
       "      <th>14309</th>\n",
       "      <td>FLUSHING-MAIN</td>\n",
       "      <td>2019-04-03 04:00:00</td>\n",
       "      <td>7</td>\n",
       "      <td>59,024</td>\n",
       "      <td>2</td>\n",
       "      <td>58,079</td>\n",
       "    </tr>\n",
       "    <tr>\n",
       "      <th>14310</th>\n",
       "      <td>FLUSHING-MAIN</td>\n",
       "      <td>2019-04-04 04:00:00</td>\n",
       "      <td>7</td>\n",
       "      <td>59,802</td>\n",
       "      <td>3</td>\n",
       "      <td>59,085</td>\n",
       "    </tr>\n",
       "    <tr>\n",
       "      <th>14311</th>\n",
       "      <td>FLUSHING-MAIN</td>\n",
       "      <td>2019-04-05 04:00:00</td>\n",
       "      <td>7</td>\n",
       "      <td>60,840</td>\n",
       "      <td>4</td>\n",
       "      <td>58,426</td>\n",
       "    </tr>\n",
       "    <tr>\n",
       "      <th>14312</th>\n",
       "      <td>FLUSHING-MAIN</td>\n",
       "      <td>2019-04-06 04:00:00</td>\n",
       "      <td>7</td>\n",
       "      <td>4,016,794</td>\n",
       "      <td>5</td>\n",
       "      <td>4,168,255</td>\n",
       "    </tr>\n",
       "    <tr>\n",
       "      <th>14313</th>\n",
       "      <td>FLUSHING-MAIN</td>\n",
       "      <td>2019-04-07 04:00:00</td>\n",
       "      <td>7</td>\n",
       "      <td>40,710</td>\n",
       "      <td>6</td>\n",
       "      <td>27,901</td>\n",
       "    </tr>\n",
       "    <tr>\n",
       "      <th>14314</th>\n",
       "      <td>FLUSHING-MAIN</td>\n",
       "      <td>2019-04-08 04:00:00</td>\n",
       "      <td>7</td>\n",
       "      <td>31,202</td>\n",
       "      <td>0</td>\n",
       "      <td>20,948</td>\n",
       "    </tr>\n",
       "  </tbody>\n",
       "</table>\n",
       "</div>"
      ],
      "text/plain": [
       "             STATION           DATE_TIME LINENAME  LATE_NIGHT_ENTRIES  \\\n",
       "14305  FLUSHING-MAIN 2019-03-30 04:00:00        7           4,001,438   \n",
       "14306  FLUSHING-MAIN 2019-03-31 04:00:00        7                   4   \n",
       "14307  FLUSHING-MAIN 2019-04-01 04:00:00        7                  37   \n",
       "14308  FLUSHING-MAIN 2019-04-02 04:00:00        7              57,655   \n",
       "14309  FLUSHING-MAIN 2019-04-03 04:00:00        7              59,024   \n",
       "14310  FLUSHING-MAIN 2019-04-04 04:00:00        7              59,802   \n",
       "14311  FLUSHING-MAIN 2019-04-05 04:00:00        7              60,840   \n",
       "14312  FLUSHING-MAIN 2019-04-06 04:00:00        7           4,016,794   \n",
       "14313  FLUSHING-MAIN 2019-04-07 04:00:00        7              40,710   \n",
       "14314  FLUSHING-MAIN 2019-04-08 04:00:00        7              31,202   \n",
       "\n",
       "       DAY_OF_WEEK  WEEK_DAY_MEAN  \n",
       "14305            5      4,168,255  \n",
       "14306            6         27,901  \n",
       "14307            0         20,948  \n",
       "14308            1         55,069  \n",
       "14309            2         58,079  \n",
       "14310            3         59,085  \n",
       "14311            4         58,426  \n",
       "14312            5      4,168,255  \n",
       "14313            6         27,901  \n",
       "14314            0         20,948  "
      ]
     },
     "execution_count": 43,
     "metadata": {},
     "output_type": "execute_result"
    }
   ],
   "source": [
    "# Calculate Flushing WEEK_DAY_MEAN\n",
    "flushing_df['WEEK_DAY_MEAN'] = (flushing_df\n",
    "                                .groupby('DAY_OF_WEEK')['LATE_NIGHT_ENTRIES']\n",
    "                                .transform(lambda x: x.mean()))\n",
    "flushing_df.head(10)"
   ]
  },
  {
   "cell_type": "code",
   "execution_count": 44,
   "metadata": {},
   "outputs": [
    {
     "data": {
      "text/html": [
       "<div>\n",
       "<style scoped>\n",
       "    .dataframe tbody tr th:only-of-type {\n",
       "        vertical-align: middle;\n",
       "    }\n",
       "\n",
       "    .dataframe tbody tr th {\n",
       "        vertical-align: top;\n",
       "    }\n",
       "\n",
       "    .dataframe thead th {\n",
       "        text-align: right;\n",
       "    }\n",
       "</style>\n",
       "<table border=\"1\" class=\"dataframe\">\n",
       "  <thead>\n",
       "    <tr style=\"text-align: right;\">\n",
       "      <th></th>\n",
       "      <th>STATION</th>\n",
       "      <th>DATE_TIME</th>\n",
       "      <th>LINENAME</th>\n",
       "      <th>LATE_NIGHT_ENTRIES</th>\n",
       "      <th>DAY_OF_WEEK</th>\n",
       "      <th>WEEK_DAY_MEAN</th>\n",
       "    </tr>\n",
       "  </thead>\n",
       "  <tbody>\n",
       "    <tr>\n",
       "      <th>14306</th>\n",
       "      <td>FLUSHING-MAIN</td>\n",
       "      <td>2019-03-31 04:00:00</td>\n",
       "      <td>7</td>\n",
       "      <td>4</td>\n",
       "      <td>6</td>\n",
       "      <td>27,901</td>\n",
       "    </tr>\n",
       "    <tr>\n",
       "      <th>14307</th>\n",
       "      <td>FLUSHING-MAIN</td>\n",
       "      <td>2019-04-01 04:00:00</td>\n",
       "      <td>7</td>\n",
       "      <td>37</td>\n",
       "      <td>0</td>\n",
       "      <td>20,948</td>\n",
       "    </tr>\n",
       "    <tr>\n",
       "      <th>14308</th>\n",
       "      <td>FLUSHING-MAIN</td>\n",
       "      <td>2019-04-02 04:00:00</td>\n",
       "      <td>7</td>\n",
       "      <td>57,655</td>\n",
       "      <td>1</td>\n",
       "      <td>55,069</td>\n",
       "    </tr>\n",
       "    <tr>\n",
       "      <th>14309</th>\n",
       "      <td>FLUSHING-MAIN</td>\n",
       "      <td>2019-04-03 04:00:00</td>\n",
       "      <td>7</td>\n",
       "      <td>59,024</td>\n",
       "      <td>2</td>\n",
       "      <td>58,079</td>\n",
       "    </tr>\n",
       "    <tr>\n",
       "      <th>14310</th>\n",
       "      <td>FLUSHING-MAIN</td>\n",
       "      <td>2019-04-04 04:00:00</td>\n",
       "      <td>7</td>\n",
       "      <td>59,802</td>\n",
       "      <td>3</td>\n",
       "      <td>59,085</td>\n",
       "    </tr>\n",
       "  </tbody>\n",
       "</table>\n",
       "</div>"
      ],
      "text/plain": [
       "             STATION           DATE_TIME LINENAME  LATE_NIGHT_ENTRIES  \\\n",
       "14306  FLUSHING-MAIN 2019-03-31 04:00:00        7                   4   \n",
       "14307  FLUSHING-MAIN 2019-04-01 04:00:00        7                  37   \n",
       "14308  FLUSHING-MAIN 2019-04-02 04:00:00        7              57,655   \n",
       "14309  FLUSHING-MAIN 2019-04-03 04:00:00        7              59,024   \n",
       "14310  FLUSHING-MAIN 2019-04-04 04:00:00        7              59,802   \n",
       "\n",
       "       DAY_OF_WEEK  WEEK_DAY_MEAN  \n",
       "14306            6         27,901  \n",
       "14307            0         20,948  \n",
       "14308            1         55,069  \n",
       "14309            2         58,079  \n",
       "14310            3         59,085  "
      ]
     },
     "execution_count": 44,
     "metadata": {},
     "output_type": "execute_result"
    }
   ],
   "source": [
    "# Mask selects every day but Saturday=5. \n",
    "# Saturdays may record people going out late to bars or nightclubs\n",
    "saturday_mask = (flushing_df['DAY_OF_WEEK'] != 5)\n",
    "flushing_df = flushing_df[saturday_mask]\n",
    "flushing_df.head(5)"
   ]
  },
  {
   "cell_type": "markdown",
   "metadata": {},
   "source": [
    "### What days are the busiest at Flushing Station?"
   ]
  },
  {
   "cell_type": "code",
   "execution_count": 45,
   "metadata": {},
   "outputs": [
    {
     "data": {
      "image/png": "[encoded data removed]",
      "text/plain": [
       "<Figure size 1080x576 with 1 Axes>"
      ]
     },
     "metadata": {
      "needs_background": "light"
     },
     "output_type": "display_data"
    }
   ],
   "source": [
    "# Plot Flushing average week: Average late night entries vs day of week\n",
    "\n",
    "plt.figure(figsize = (15,8))\n",
    "ax = sns.barplot(x = 'DAY_OF_WEEK', y = 'WEEK_DAY_MEAN',data = flushing_df, color='brown')\n",
    "ax.set(title='Flushing Station: Average Late Night Entries vs. Day of Week')\n",
    "ax.set(xlabel=('Day of week (Saturday omitted)'))\n",
    "ax.set_xticklabels(['Mon','Tue','Wed','Thu','Fri','Sun'],rotation = 0)\n",
    "ax.set(ylabel=('Average late night entries'))\n",
    "ax.yaxis.set_major_formatter(mpl.ticker.StrMethodFormatter('{x:,.0f}'))\n",
    "plt.grid();\n"
   ]
  },
  {
   "cell_type": "markdown",
   "metadata": {},
   "source": [
    "Tuesday through Friday have the highest late night entries at the Flushing station."
   ]
  }
 ],
 "metadata": {
  "kernelspec": {
   "display_name": "Python 3 (ipykernel)",
   "language": "python",
   "name": "python3"
  },
  "language_info": {
   "codemirror_mode": {
    "name": "ipython",
    "version": 3
   },
   "file_extension": ".py",
   "mimetype": "text/x-python",
   "name": "python",
   "nbconvert_exporter": "python",
   "pygments_lexer": "ipython3",
   "version": "3.8.12"
  },
  "toc": {
   "base_numbering": 1,
   "nav_menu": {},
   "number_sections": false,
   "sideBar": true,
   "skip_h1_title": false,
   "title_cell": "Table of Contents",
   "title_sidebar": "Contents",
   "toc_cell": false,
   "toc_position": {
    "height": "calc(100% - 180px)",
    "left": "10px",
    "top": "150px",
    "width": "288px"
   },
   "toc_section_display": true,
   "toc_window_display": true
  }
 },
 "nbformat": 4,
 "nbformat_minor": 4
}
