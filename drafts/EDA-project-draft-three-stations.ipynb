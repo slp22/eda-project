{
 "cells": [
  {
   "cell_type": "markdown",
   "metadata": {},
   "source": [
    "# COVID Testing and Vaccines and Health Equity \n",
    "\n",
    "#### **Analysis Goal**\n",
    "Highest burden of COVID-19 as of May 2021*: \n",
    "1. Pelham Gardens, Bronx, 10469: Station Gun Hill Road (5)\n",
    "2. Corona, Queens, 11368: Station 103 St-Corona Plaza (7)\n",
    "3. Midwood, Brooklyn, 11230: Station Avenue M (BQ)\n",
    "\n",
    "Source: https://www.nytimes.com/interactive/2020/nyregion/new-york-city-coronavirus-cases.html?#zipcode<br/>\n",
    "*New York Times stoppped reporting COVID-19 cases by zipcodes on May 25, 2021. \n",
    "\n",
    "\n",
    "Corona, New York was one of the zip codes ([11368](https://goo.gl/maps/wCcrT4X5FKj79vES7)) with [very high cases](https://www1.nyc.gov/site/doh/covid/covid-19-data-neighborhoods.page) of COVID-19. Its residents are mostly Hispanic and [low-income](https://censusreporter.org/profiles/86000US11368-11368/), which this analysis uses as a proxy for essential workers during the coronavirus pandemic.<br/>\n",
    "\n",
    "The New York City Department of Health and Mental Hygiene (NYCDOH) has [mobile testing units](https://www1.nyc.gov/site/coronavirus/get-tested/covid-19-testing.page) which often set up near subway stations. However, the testing units operate during peak hours (8 AM - 8 PM), and off-peak commuters cannot access these services. The results of this analysis could provide NYCDOH with evidence to deploy units during off-peak hours to stations in zip codes with high numbers of essential workers. \n",
    "\n",
    "#### **Process**\n",
    "This analysis explores April 2019, off-peak travel on the 7 train (12 AM - 4 AM) from the 103rd Street-Corona station, in the Corona neighborhood in Queens. MTA turnstile data for 2020 and 2021 is irregular because the MTA suspended 24-hour subway service from [May 2020](https://www.nytimes.com/2020/05/06/nyregion/nyc-subway-close-coronavirus.html) until [May 2021](https://www.nytimes.com/2021/05/17/nyregion/nyc-subway-full-service-24-hours.html). Therefore, the best approximation for off-hour travel was the 2019 data used here. \n",
    "\n",
    "#### **Preliminary visualization**\n",
    "The two barplots show how many people entered the Corona station each day in April during the midnight and 4 AM turnstile report.   \n",
    "\n",
    "#### **Preliminary conclusions**\n",
    "The barplots show regular off-peak travel and suggest some days of the week may be the best option for stationing mobile testing units late at night. \n"
   ]
  },
  {
   "cell_type": "code",
   "execution_count": null,
   "metadata": {},
   "outputs": [],
   "source": [
    "import pandas as pd\n",
    "import numpy as np\n",
    "%matplotlib inline\n",
    "import matplotlib.pyplot as plt\n",
    "import seaborn as sns\n",
    "pd.options.display.float_format = \"{:,.0f}\".format\n"
   ]
  },
  {
   "cell_type": "code",
   "execution_count": null,
   "metadata": {},
   "outputs": [],
   "source": [
    "# Load data from April, May, and June 2019, data is loaded on Saturdays.\n",
    "# Source: http://web.mta.info/developers/turnstile.html\n",
    "\n",
    "def get_data_parse_dt(week_nums):\n",
    "    url = \"http://web.mta.info/developers/data/nyct/turnstile/turnstile_{}.txt\"\n",
    "    dfs = []\n",
    "    for week_num in week_nums:\n",
    "        file_url = url.format(week_num)\n",
    "        dfs.append(pd.read_csv(file_url, parse_dates=[['DATE','TIME']], usecols = [0,1,2,3,4,6,7,9], keep_date_col=True))\n",
    "    return pd.concat(dfs)\n",
    "\n",
    "# Create a datetime column using data from columns DATE and TIME during import\n",
    "week_nums = [190406, 190413, 190420, 190427, 190504, 190511, 190518, 190525, 190601, 190608, 190615, 190622, 190629, 190706]\n",
    "turnstiles_df = get_data_parse_dt(week_nums)\n",
    "turnstiles_df.tail()\n"
   ]
  },
  {
   "cell_type": "code",
   "execution_count": null,
   "metadata": {
    "scrolled": true
   },
   "outputs": [],
   "source": [
    "turnstiles_df.columns"
   ]
  },
  {
   "cell_type": "code",
   "execution_count": null,
   "metadata": {},
   "outputs": [],
   "source": [
    "# Strip whitespace from column names\n",
    "turnstiles_df.columns = [column.strip() for column in turnstiles_df.columns]\n",
    "turnstiles_df.columns"
   ]
  },
  {
   "cell_type": "code",
   "execution_count": null,
   "metadata": {},
   "outputs": [],
   "source": [
    "turnstiles_df.head(1)"
   ]
  },
  {
   "cell_type": "code",
   "execution_count": null,
   "metadata": {},
   "outputs": [],
   "source": [
    "# Looking for station of interest: Elmhurst Avenue, Queens \n",
    "df = turnstiles_df[turnstiles_df['STATION'].str.contains('CORONA', na=False)] \n",
    "df.head(1)\n",
    "# Station name as recorded in dataset: 103 ST-CORONA"
   ]
  },
  {
   "cell_type": "code",
   "execution_count": null,
   "metadata": {},
   "outputs": [],
   "source": [
    "# Looking for station of interest: Gun Hill Road, Bronx \n",
    "df = turnstiles_df[turnstiles_df['STATION'].str.contains('GUN HILL', na=False)] \n",
    "df.head(1)\n",
    "# Station name as recorded in dataset: GUN HILL RD"
   ]
  },
  {
   "cell_type": "code",
   "execution_count": null,
   "metadata": {},
   "outputs": [],
   "source": [
    "# Looking for station of interest: Avenue M, Brooklyn \n",
    "df = turnstiles_df[turnstiles_df['STATION'].str.contains('GUN HILL', na=False)] \n",
    "df.head(1)\n",
    "# Station name as recorded in dataset: AVENUE M"
   ]
  },
  {
   "cell_type": "code",
   "execution_count": null,
   "metadata": {},
   "outputs": [],
   "source": [
    "# Mask selects stations of interest \n",
    "station_mask = ((turnstiles_df['STATION'] == '103 ST-CORONA') | \n",
    "                (turnstiles_df['STATION'] == 'GUN HILL RD') | \n",
    "                (turnstiles_df['STATION'] == 'AVENUE M')) "
   ]
  },
  {
   "cell_type": "code",
   "execution_count": null,
   "metadata": {},
   "outputs": [],
   "source": [
    "station_df = turnstiles_df[station_mask]\n",
    "station_df.STATION.unique()\n",
    "# confirm station_df has data from three stations of interest"
   ]
  },
  {
   "cell_type": "code",
   "execution_count": null,
   "metadata": {},
   "outputs": [],
   "source": [
    "# Mask selects dates of interest; include last day in March to calculate the previous day's entries\n",
    "date_mask = ((station_df['DATE'] >= '03/31/2019') & \n",
    "             (station_df['DATE'] <= '06/30/2019'))"
   ]
  },
  {
   "cell_type": "code",
   "execution_count": null,
   "metadata": {},
   "outputs": [],
   "source": [
    "station_date_df = station_df[date_mask]\n",
    "station_date_df.DATE.unique()\n",
    "# comfirm station_date_df has dates from March 31 – June 30, 2019"
   ]
  },
  {
   "cell_type": "code",
   "execution_count": null,
   "metadata": {},
   "outputs": [],
   "source": [
    "# Mask selects the interval between 12:00 AM and 4:00 AM from the selected station data df\n",
    "time_mask = (station_date_df['TIME'] == '04:00:00')"
   ]
  },
  {
   "cell_type": "code",
   "execution_count": null,
   "metadata": {},
   "outputs": [],
   "source": [
    "station_date_time_df = station_date_df[time_mask]\n",
    "station_date_time_df.TIME.unique()\n",
    "# confirm station_time_df has data from the 4:00 AM interval"
   ]
  },
  {
   "cell_type": "code",
   "execution_count": null,
   "metadata": {},
   "outputs": [],
   "source": [
    "# station_date_time_df has 2,380 entries with no null values, and data_time column is a dt datatype\n",
    "station_date_time_df.info()"
   ]
  },
  {
   "cell_type": "code",
   "execution_count": null,
   "metadata": {},
   "outputs": [],
   "source": [
    "highest_burden_df = station_date_time_df.reset_index()\n",
    "highest_burden_df.head()"
   ]
  },
  {
   "cell_type": "code",
   "execution_count": null,
   "metadata": {},
   "outputs": [],
   "source": [
    "# highest_burden_daily_df = (highest_burden_df\n",
    "#                            .groupby([\"STATION\", \"DATE\"])[['DAILY_ENTRIES']]\n",
    "#                            .sum().reset_index())\n",
    "\n",
    "turnstiles = (highest_burden_df.groupby(['STATION'])['SCP'].count())\n",
    "turnstiles"
   ]
  },
  {
   "cell_type": "code",
   "execution_count": null,
   "metadata": {},
   "outputs": [],
   "source": [
    "# Create new columns for the previous date and entries. \n",
    "# Apply a shift to calculate the previous day's entries. \n",
    "\n",
    "highest_burden_df[['PREV_DATE', 'PREV_ENTRIES']] = (highest_burden_df\n",
    "                                                  .groupby([\"C/A\", \"UNIT\", \"SCP\", \"STATION\"])[\"DATE\", \"ENTRIES\"]\n",
    "                                                  .apply(lambda grp: grp.shift(1)))\n",
    "highest_burden_df.head(2)"
   ]
  },
  {
   "cell_type": "code",
   "execution_count": null,
   "metadata": {},
   "outputs": [],
   "source": [
    "# Drop row with the March 31, 2019 data, used it to calculate the previous entries, no longer neeeded. \n",
    "highest_burden_df.dropna(subset=[\"PREV_DATE\"], axis=0, inplace=True)\n",
    "highest_burden_df.head(2)"
   ]
  },
  {
   "cell_type": "code",
   "execution_count": null,
   "metadata": {},
   "outputs": [],
   "source": [
    "# How many stations have a counter going in reverse? \n",
    "(highest_burden_df[highest_burden_df[\"ENTRIES\"] < highest_burden_df[\"PREV_ENTRIES\"]]\n",
    "    .groupby([\"C/A\", \"UNIT\", \"SCP\", \"STATION\"])\n",
    "    .size())"
   ]
  },
  {
   "cell_type": "code",
   "execution_count": null,
   "metadata": {},
   "outputs": [],
   "source": [
    "# Adjust counter before calculating daily entries\n",
    "def get_daily_counts(row, max_counter):\n",
    "    counter = row[\"ENTRIES\"] - row[\"PREV_ENTRIES\"]\n",
    "    if counter < 0:\n",
    "        counter = -counter\n",
    "    if counter > max_counter:\n",
    "        print(row[\"ENTRIES\"], row[\"PREV_ENTRIES\"])\n",
    "        counter = min(row[\"ENTRIES\"], row[\"PREV_ENTRIES\"])\n",
    "    if counter > max_counter:\n",
    "        return 0\n",
    "    return counter\n",
    "\n",
    "highest_burden_df[\"LATE_NIGHT_ENTRIES\"] = highest_burden_df.apply(get_daily_counts, axis=1, max_counter=10_00_000)\n",
    "highest_burden_df.head(40)\n",
    "highest_burden_df.sort_values('DATE')"
   ]
  },
  {
   "cell_type": "code",
   "execution_count": null,
   "metadata": {},
   "outputs": [],
   "source": [
    "# Sum all turnstiles per station\n",
    "highest_burden_daily_df = (highest_burden_df\n",
    "                           .groupby([\"STATION\", \"DATE\"])[['LATE_NIGHT_ENTRIES']]\n",
    "                           .sum().reset_index())\n",
    "highest_burden_daily_df.head()\n",
    "\n",
    "# Reduces dataframe from 2,380 to 271 rows as expected (3 stations * 90 days per station)"
   ]
  },
  {
   "cell_type": "code",
   "execution_count": null,
   "metadata": {},
   "outputs": [],
   "source": [
    "# Add day of week and week number to dataframe in new columns\n",
    "highest_burden_daily_df['DAY_OF_WEEK_NUM'] = pd.to_datetime(highest_burden_daily_df['DATE']).dt.dayofweek\n",
    "# highest_burden_daily_df['WEEK_OF_YEAR'] = pd.to_datetime(highest_burden_daily_df['DATE']).dt.isocalendar().week\n",
    "highest_burden_daily_df.head(20)"
   ]
  },
  {
   "cell_type": "code",
   "execution_count": null,
   "metadata": {},
   "outputs": [],
   "source": [
    "# Add column ROLLING_MEAN to capture the rolling mean (by 7) for each station group\n",
    "highest_burden_daily_df['ROLLING_MEAN'] = (highest_burden_daily_df\n",
    "                                           .groupby('STATION')['LATE_NIGHT_ENTRIES']\n",
    "                                           .transform(lambda x: x.rolling(7,1).mean()))\n",
    "highest_burden_daily_df.head(2)                    "
   ]
  },
  {
   "cell_type": "code",
   "execution_count": null,
   "metadata": {},
   "outputs": [],
   "source": [
    "# calculate WEEK_DAY_MEAN (no column to capture data, multi-index)\n",
    "weekly_averages = (highest_burden_daily_df\n",
    "               .groupby(['STATION','DAY_OF_WEEK_NUM'])['LATE_NIGHT_ENTRIES']\n",
    "               .mean())\n",
    "weekly_averages.head(20)"
   ]
  },
  {
   "cell_type": "code",
   "execution_count": null,
   "metadata": {},
   "outputs": [],
   "source": [
    "weekly_averages.unstack(level=0).plot(kind='bar', \n",
    "                                      subplots=False, \n",
    "                                      rot=0, \n",
    "                                      figsize=(15, 5), \n",
    "                                      layout=(1, 3), \n",
    "                                      xlabel=('Day of the week'),\n",
    "                                      ylabel=('Average number of entries'),\n",
    "                                      title=('Average late night entries by day of week at Avenue M, Elmhurst, and Gun Hill Road')\n",
    "                                     );\n",
    "                                 \n",
    "xpositions = (0,1,2,3,4,5,6)\n",
    "xlabels = ('Mon', 'Tue','Wed','Thu', 'Fri', 'Sat', 'Sun')\n",
    "plt.xticks(xpositions, xlabels)\n",
    "\n",
    "ypositions = (0,5000, 10000, 15000, 20000, 25000, 30000)\n",
    "ylabels = ('0','5,000', '10,000', '15,000', '20,000', '25,000', '30,000')\n",
    "plt.yticks(ypositions, ylabels)\n",
    "\n",
    "plt.grid();\n",
    "\n"
   ]
  },
  {
   "cell_type": "code",
   "execution_count": null,
   "metadata": {},
   "outputs": [],
   "source": []
  }
 ],
 "metadata": {
  "kernelspec": {
   "display_name": "Python 3 (ipykernel)",
   "language": "python",
   "name": "python3"
  },
  "language_info": {
   "codemirror_mode": {
    "name": "ipython",
    "version": 3
   },
   "file_extension": ".py",
   "mimetype": "text/x-python",
   "name": "python",
   "nbconvert_exporter": "python",
   "pygments_lexer": "ipython3",
   "version": "3.8.12"
  },
  "toc": {
   "base_numbering": 1,
   "nav_menu": {},
   "number_sections": false,
   "sideBar": true,
   "skip_h1_title": false,
   "title_cell": "Table of Contents",
   "title_sidebar": "Contents",
   "toc_cell": false,
   "toc_position": {
    "height": "calc(100% - 180px)",
    "left": "10px",
    "top": "150px",
    "width": "288px"
   },
   "toc_section_display": true,
   "toc_window_display": true
  }
 },
 "nbformat": 4,
 "nbformat_minor": 4
}
